{
 "cells": [
  {
   "cell_type": "markdown",
   "id": "195438e2",
   "metadata": {},
   "source": [
    "# Contents\n",
    "\n",
    "> Importing libraries\n",
    "\n",
    "> Data types\n",
    "\n",
    "> Concatenation"
   ]
  },
  {
   "cell_type": "markdown",
   "id": "46e05796",
   "metadata": {},
   "source": [
    "# 01. Importing libraries"
   ]
  },
  {
   "cell_type": "code",
   "execution_count": 4,
   "id": "af692aa1",
   "metadata": {},
   "outputs": [],
   "source": [
    "# Import libraries\n",
    "import pandas as pd\n",
    "import numpy as np\n",
    "import os"
   ]
  },
  {
   "cell_type": "markdown",
   "id": "0b462882",
   "metadata": {},
   "source": [
    "# Data types"
   ]
  },
  {
   "cell_type": "code",
   "execution_count": 41,
   "id": "1dd93fcd",
   "metadata": {},
   "outputs": [],
   "source": [
    "x=50"
   ]
  },
  {
   "cell_type": "code",
   "execution_count": 42,
   "id": "bbb4b1fe",
   "metadata": {},
   "outputs": [],
   "source": [
    "y=50"
   ]
  },
  {
   "cell_type": "code",
   "execution_count": 43,
   "id": "c67876ad",
   "metadata": {},
   "outputs": [
    {
     "data": {
      "text/plain": [
       "100"
      ]
     },
     "execution_count": 43,
     "metadata": {},
     "output_type": "execute_result"
    }
   ],
   "source": [
    "x+y"
   ]
  },
  {
   "cell_type": "code",
   "execution_count": 44,
   "id": "0c1ff907",
   "metadata": {},
   "outputs": [],
   "source": [
    "a=150"
   ]
  },
  {
   "cell_type": "code",
   "execution_count": 45,
   "id": "59baf349",
   "metadata": {},
   "outputs": [],
   "source": [
    "b=250"
   ]
  },
  {
   "cell_type": "code",
   "execution_count": 46,
   "id": "5a0f6d77",
   "metadata": {},
   "outputs": [
    {
     "data": {
      "text/plain": [
       "100"
      ]
     },
     "execution_count": 46,
     "metadata": {},
     "output_type": "execute_result"
    }
   ],
   "source": [
    "b-a"
   ]
  },
  {
   "cell_type": "code",
   "execution_count": 51,
   "id": "2208a1f3",
   "metadata": {},
   "outputs": [
    {
     "data": {
      "text/plain": [
       "100"
      ]
     },
     "execution_count": 51,
     "metadata": {},
     "output_type": "execute_result"
    }
   ],
   "source": [
    "b-(x+y+x)"
   ]
  },
  {
   "cell_type": "code",
   "execution_count": 52,
   "id": "8a9611cb",
   "metadata": {},
   "outputs": [],
   "source": [
    "e=10.5"
   ]
  },
  {
   "cell_type": "code",
   "execution_count": 53,
   "id": "3c708186",
   "metadata": {},
   "outputs": [],
   "source": [
    "f=15.5"
   ]
  },
  {
   "cell_type": "code",
   "execution_count": 54,
   "id": "870e96ea",
   "metadata": {},
   "outputs": [
    {
     "data": {
      "text/plain": [
       "1.4761904761904763"
      ]
     },
     "execution_count": 54,
     "metadata": {},
     "output_type": "execute_result"
    }
   ],
   "source": [
    "f/e"
   ]
  },
  {
   "cell_type": "code",
   "execution_count": 75,
   "id": "3f52a868",
   "metadata": {},
   "outputs": [],
   "source": [
    "a='Ger' ; b='man'; c='y'"
   ]
  },
  {
   "cell_type": "code",
   "execution_count": 76,
   "id": "e9bad17e",
   "metadata": {},
   "outputs": [
    {
     "data": {
      "text/plain": [
       "'Germany'"
      ]
     },
     "execution_count": 76,
     "metadata": {},
     "output_type": "execute_result"
    }
   ],
   "source": [
    "a+b+c"
   ]
  },
  {
   "cell_type": "code",
   "execution_count": 77,
   "id": "78295289",
   "metadata": {},
   "outputs": [],
   "source": [
    "a='it '; b=' a '; c='short '; d='week' ; e='is'"
   ]
  },
  {
   "cell_type": "code",
   "execution_count": 78,
   "id": "72223b4c",
   "metadata": {},
   "outputs": [
    {
     "data": {
      "text/plain": [
       "'it is a short week'"
      ]
     },
     "execution_count": 78,
     "metadata": {},
     "output_type": "execute_result"
    }
   ],
   "source": [
    "a+e+b+c+d"
   ]
  },
  {
   "cell_type": "code",
   "execution_count": 79,
   "id": "7b2f2bb4",
   "metadata": {},
   "outputs": [],
   "source": [
    "f=' holiday'; g=' on'; h=' thursday'"
   ]
  },
  {
   "cell_type": "code",
   "execution_count": 80,
   "id": "f76c0837",
   "metadata": {},
   "outputs": [
    {
     "data": {
      "text/plain": [
       "'it is a  holiday on thursday'"
      ]
     },
     "execution_count": 80,
     "metadata": {},
     "output_type": "execute_result"
    }
   ],
   "source": [
    "a+e+b+f+g+h"
   ]
  },
  {
   "cell_type": "code",
   "execution_count": 81,
   "id": "9eb0cb27",
   "metadata": {},
   "outputs": [
    {
     "data": {
      "text/plain": [
       "'it is a  holiday on thursdayit is a  holiday on thursdayit is a  holiday on thursdayit is a  holiday on thursdayit is a  holiday on thursdayit is a  holiday on thursdayit is a  holiday on thursdayit is a  holiday on thursdayit is a  holiday on thursdayit is a  holiday on thursdayit is a  holiday on thursdayit is a  holiday on thursdayit is a  holiday on thursdayit is a  holiday on thursdayit is a  holiday on thursdayit is a  holiday on thursdayit is a  holiday on thursdayit is a  holiday on thursdayit is a  holiday on thursdayit is a  holiday on thursdayit is a  holiday on thursdayit is a  holiday on thursdayit is a  holiday on thursdayit is a  holiday on thursdayit is a  holiday on thursdayit is a  holiday on thursdayit is a  holiday on thursdayit is a  holiday on thursdayit is a  holiday on thursdayit is a  holiday on thursdayit is a  holiday on thursdayit is a  holiday on thursdayit is a  holiday on thursdayit is a  holiday on thursdayit is a  holiday on thursdayit is a  holiday on thursdayit is a  holiday on thursdayit is a  holiday on thursdayit is a  holiday on thursdayit is a  holiday on thursdayit is a  holiday on thursdayit is a  holiday on thursdayit is a  holiday on thursdayit is a  holiday on thursdayit is a  holiday on thursdayit is a  holiday on thursdayit is a  holiday on thursdayit is a  holiday on thursdayit is a  holiday on thursdayit is a  holiday on thursdayit is a  holiday on thursdayit is a  holiday on thursdayit is a  holiday on thursdayit is a  holiday on thursdayit is a  holiday on thursdayit is a  holiday on thursdayit is a  holiday on thursdayit is a  holiday on thursdayit is a  holiday on thursdayit is a  holiday on thursdayit is a  holiday on thursdayit is a  holiday on thursdayit is a  holiday on thursdayit is a  holiday on thursdayit is a  holiday on thursdayit is a  holiday on thursdayit is a  holiday on thursdayit is a  holiday on thursdayit is a  holiday on thursdayit is a  holiday on thursdayit is a  holiday on thursdayit is a  holiday on thursdayit is a  holiday on thursdayit is a  holiday on thursdayit is a  holiday on thursdayit is a  holiday on thursdayit is a  holiday on thursdayit is a  holiday on thursdayit is a  holiday on thursdayit is a  holiday on thursdayit is a  holiday on thursdayit is a  holiday on thursdayit is a  holiday on thursdayit is a  holiday on thursdayit is a  holiday on thursdayit is a  holiday on thursdayit is a  holiday on thursdayit is a  holiday on thursdayit is a  holiday on thursdayit is a  holiday on thursdayit is a  holiday on thursdayit is a  holiday on thursdayit is a  holiday on thursdayit is a  holiday on thursdayit is a  holiday on thursdayit is a  holiday on thursdayit is a  holiday on thursdayit is a  holiday on thursdayit is a  holiday on thursdayit is a  holiday on thursday'"
      ]
     },
     "execution_count": 81,
     "metadata": {},
     "output_type": "execute_result"
    }
   ],
   "source": [
    "(a+e+b+f+g+h)*100"
   ]
  },
  {
   "cell_type": "code",
   "execution_count": null,
   "id": "aeace436",
   "metadata": {},
   "outputs": [],
   "source": []
  },
  {
   "cell_type": "code",
   "execution_count": null,
   "id": "3c464c00",
   "metadata": {},
   "outputs": [],
   "source": []
  }
 ],
 "metadata": {
  "kernelspec": {
   "display_name": "Python 3 (ipykernel)",
   "language": "python",
   "name": "python3"
  },
  "language_info": {
   "codemirror_mode": {
    "name": "ipython",
    "version": 3
   },
   "file_extension": ".py",
   "mimetype": "text/x-python",
   "name": "python",
   "nbconvert_exporter": "python",
   "pygments_lexer": "ipython3",
   "version": "3.11.7"
  }
 },
 "nbformat": 4,
 "nbformat_minor": 5
}

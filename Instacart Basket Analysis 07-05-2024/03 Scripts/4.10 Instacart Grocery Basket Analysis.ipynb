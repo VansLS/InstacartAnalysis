{
 "cells": [
  {
   "cell_type": "markdown",
   "id": "f9af9047",
   "metadata": {},
   "source": [
    "# Contents"
   ]
  },
  {
   "cell_type": "markdown",
   "id": "1eeee9f0",
   "metadata": {},
   "source": [
    "> Import libraries and data\n",
    "\n",
    "> Data security review\n",
    "\n",
    "> Create a 'Region' column\n",
    "\n",
    "> Cross Region variable with the spending flag\n",
    "\n",
    "> Insights: customer behavior in different geographic areas\n",
    "\n",
    "> Create an exclusion flag for low-activity customers\n",
    "\n",
    "> Export data excluding 'low activity' customers\n",
    "\n",
    "> Create customer profile\n",
    "\n",
    "> Bar chart shows the distribution of customer profiles\n",
    "\n",
    "> Aggregate  max, mean, and min on a customer-profile level for usage frequency and expenditure.\n",
    "\n",
    "> Customer profile insights\n",
    "\n",
    "> Visualisations to compare customer profiles with regions and departments.\n",
    "\n",
    "> Top 3 departments by customer profile\n",
    "\n",
    "> Most popular day to shop by customer profile\n",
    "\n",
    "> How often users return to Instacart categorised by loyalty \n",
    "\n",
    "> Insights: how often users return to Instacart categorised by loyalty \n"
   ]
  },
  {
   "cell_type": "markdown",
   "id": "89c715ed",
   "metadata": {},
   "source": [
    "# Import libraries"
   ]
  },
  {
   "cell_type": "code",
   "execution_count": 1,
   "id": "216a66e2",
   "metadata": {},
   "outputs": [],
   "source": [
    "import pandas as pd\n",
    "import numpy as np\n",
    "import os\n",
    "import matplotlib.pyplot as plt\n",
    "import seaborn as sns\n",
    "import scipy"
   ]
  },
  {
   "cell_type": "markdown",
   "id": "5701fa57",
   "metadata": {},
   "source": [
    "# Import data"
   ]
  },
  {
   "cell_type": "code",
   "execution_count": 2,
   "id": "c66be65f",
   "metadata": {},
   "outputs": [],
   "source": [
    "path=r'/Users/vanessalimsingh/Instacart Basket Analysis 07-05-2024'"
   ]
  },
  {
   "cell_type": "code",
   "execution_count": 3,
   "id": "c1aeda2e",
   "metadata": {},
   "outputs": [],
   "source": [
    "df_fix=pd.read_pickle(os.path.join(path, '02 Data', 'Prepared Data', 'ords_prods_merge_4-10.pkl'))"
   ]
  },
  {
   "cell_type": "code",
   "execution_count": 4,
   "id": "b579e3a1",
   "metadata": {},
   "outputs": [
    {
     "data": {
      "text/plain": [
       "25.0"
      ]
     },
     "execution_count": 4,
     "metadata": {},
     "output_type": "execute_result"
    }
   ],
   "source": [
    "df_fix['prices'].max()"
   ]
  },
  {
   "cell_type": "code",
   "execution_count": 5,
   "id": "b9144bed",
   "metadata": {},
   "outputs": [
    {
     "data": {
      "text/html": [
       "<div>\n",
       "<style scoped>\n",
       "    .dataframe tbody tr th:only-of-type {\n",
       "        vertical-align: middle;\n",
       "    }\n",
       "\n",
       "    .dataframe tbody tr th {\n",
       "        vertical-align: top;\n",
       "    }\n",
       "\n",
       "    .dataframe thead th {\n",
       "        text-align: right;\n",
       "    }\n",
       "</style>\n",
       "<table border=\"1\" class=\"dataframe\">\n",
       "  <thead>\n",
       "    <tr style=\"text-align: right;\">\n",
       "      <th></th>\n",
       "      <th>order_id</th>\n",
       "      <th>user_id</th>\n",
       "      <th>order_number</th>\n",
       "      <th>order_dow</th>\n",
       "      <th>order_hour_of_day</th>\n",
       "      <th>days_since_prior_order</th>\n",
       "      <th>product_id</th>\n",
       "      <th>add_to_cart_order</th>\n",
       "      <th>reordered</th>\n",
       "      <th>product_name</th>\n",
       "      <th>...</th>\n",
       "      <th>Gender</th>\n",
       "      <th>State</th>\n",
       "      <th>Age</th>\n",
       "      <th>date_joined</th>\n",
       "      <th>Dependants</th>\n",
       "      <th>Status</th>\n",
       "      <th>income</th>\n",
       "      <th>Full Name</th>\n",
       "      <th>merge_indicator</th>\n",
       "      <th>department</th>\n",
       "    </tr>\n",
       "  </thead>\n",
       "  <tbody>\n",
       "    <tr>\n",
       "      <th>0</th>\n",
       "      <td>2539329</td>\n",
       "      <td>1</td>\n",
       "      <td>1</td>\n",
       "      <td>2</td>\n",
       "      <td>8</td>\n",
       "      <td>NaN</td>\n",
       "      <td>196</td>\n",
       "      <td>1</td>\n",
       "      <td>0</td>\n",
       "      <td>Soda</td>\n",
       "      <td>...</td>\n",
       "      <td>Female</td>\n",
       "      <td>Alabama</td>\n",
       "      <td>31</td>\n",
       "      <td>2/17/2019</td>\n",
       "      <td>3</td>\n",
       "      <td>married</td>\n",
       "      <td>40423</td>\n",
       "      <td>Linda Nguyen</td>\n",
       "      <td>both</td>\n",
       "      <td>beverages</td>\n",
       "    </tr>\n",
       "    <tr>\n",
       "      <th>1</th>\n",
       "      <td>2539329</td>\n",
       "      <td>1</td>\n",
       "      <td>1</td>\n",
       "      <td>2</td>\n",
       "      <td>8</td>\n",
       "      <td>NaN</td>\n",
       "      <td>14084</td>\n",
       "      <td>2</td>\n",
       "      <td>0</td>\n",
       "      <td>Organic Unsweetened Vanilla Almond Milk</td>\n",
       "      <td>...</td>\n",
       "      <td>Female</td>\n",
       "      <td>Alabama</td>\n",
       "      <td>31</td>\n",
       "      <td>2/17/2019</td>\n",
       "      <td>3</td>\n",
       "      <td>married</td>\n",
       "      <td>40423</td>\n",
       "      <td>Linda Nguyen</td>\n",
       "      <td>both</td>\n",
       "      <td>dairy eggs</td>\n",
       "    </tr>\n",
       "    <tr>\n",
       "      <th>2</th>\n",
       "      <td>2539329</td>\n",
       "      <td>1</td>\n",
       "      <td>1</td>\n",
       "      <td>2</td>\n",
       "      <td>8</td>\n",
       "      <td>NaN</td>\n",
       "      <td>12427</td>\n",
       "      <td>3</td>\n",
       "      <td>0</td>\n",
       "      <td>Original Beef Jerky</td>\n",
       "      <td>...</td>\n",
       "      <td>Female</td>\n",
       "      <td>Alabama</td>\n",
       "      <td>31</td>\n",
       "      <td>2/17/2019</td>\n",
       "      <td>3</td>\n",
       "      <td>married</td>\n",
       "      <td>40423</td>\n",
       "      <td>Linda Nguyen</td>\n",
       "      <td>both</td>\n",
       "      <td>snacks</td>\n",
       "    </tr>\n",
       "    <tr>\n",
       "      <th>3</th>\n",
       "      <td>2539329</td>\n",
       "      <td>1</td>\n",
       "      <td>1</td>\n",
       "      <td>2</td>\n",
       "      <td>8</td>\n",
       "      <td>NaN</td>\n",
       "      <td>26088</td>\n",
       "      <td>4</td>\n",
       "      <td>0</td>\n",
       "      <td>Aged White Cheddar Popcorn</td>\n",
       "      <td>...</td>\n",
       "      <td>Female</td>\n",
       "      <td>Alabama</td>\n",
       "      <td>31</td>\n",
       "      <td>2/17/2019</td>\n",
       "      <td>3</td>\n",
       "      <td>married</td>\n",
       "      <td>40423</td>\n",
       "      <td>Linda Nguyen</td>\n",
       "      <td>both</td>\n",
       "      <td>snacks</td>\n",
       "    </tr>\n",
       "    <tr>\n",
       "      <th>4</th>\n",
       "      <td>2539329</td>\n",
       "      <td>1</td>\n",
       "      <td>1</td>\n",
       "      <td>2</td>\n",
       "      <td>8</td>\n",
       "      <td>NaN</td>\n",
       "      <td>26405</td>\n",
       "      <td>5</td>\n",
       "      <td>0</td>\n",
       "      <td>XL Pick-A-Size Paper Towel Rolls</td>\n",
       "      <td>...</td>\n",
       "      <td>Female</td>\n",
       "      <td>Alabama</td>\n",
       "      <td>31</td>\n",
       "      <td>2/17/2019</td>\n",
       "      <td>3</td>\n",
       "      <td>married</td>\n",
       "      <td>40423</td>\n",
       "      <td>Linda Nguyen</td>\n",
       "      <td>both</td>\n",
       "      <td>household</td>\n",
       "    </tr>\n",
       "  </tbody>\n",
       "</table>\n",
       "<p>5 rows × 32 columns</p>\n",
       "</div>"
      ],
      "text/plain": [
       "   order_id  user_id  order_number  order_dow  order_hour_of_day  \\\n",
       "0   2539329        1             1          2                  8   \n",
       "1   2539329        1             1          2                  8   \n",
       "2   2539329        1             1          2                  8   \n",
       "3   2539329        1             1          2                  8   \n",
       "4   2539329        1             1          2                  8   \n",
       "\n",
       "   days_since_prior_order  product_id  add_to_cart_order  reordered  \\\n",
       "0                     NaN         196                  1          0   \n",
       "1                     NaN       14084                  2          0   \n",
       "2                     NaN       12427                  3          0   \n",
       "3                     NaN       26088                  4          0   \n",
       "4                     NaN       26405                  5          0   \n",
       "\n",
       "                              product_name  ...  Gender    State  Age  \\\n",
       "0                                     Soda  ...  Female  Alabama   31   \n",
       "1  Organic Unsweetened Vanilla Almond Milk  ...  Female  Alabama   31   \n",
       "2                      Original Beef Jerky  ...  Female  Alabama   31   \n",
       "3               Aged White Cheddar Popcorn  ...  Female  Alabama   31   \n",
       "4         XL Pick-A-Size Paper Towel Rolls  ...  Female  Alabama   31   \n",
       "\n",
       "  date_joined Dependants   Status  income     Full Name  merge_indicator  \\\n",
       "0   2/17/2019          3  married   40423  Linda Nguyen             both   \n",
       "1   2/17/2019          3  married   40423  Linda Nguyen             both   \n",
       "2   2/17/2019          3  married   40423  Linda Nguyen             both   \n",
       "3   2/17/2019          3  married   40423  Linda Nguyen             both   \n",
       "4   2/17/2019          3  married   40423  Linda Nguyen             both   \n",
       "\n",
       "   department  \n",
       "0   beverages  \n",
       "1  dairy eggs  \n",
       "2      snacks  \n",
       "3      snacks  \n",
       "4   household  \n",
       "\n",
       "[5 rows x 32 columns]"
      ]
     },
     "execution_count": 5,
     "metadata": {},
     "output_type": "execute_result"
    }
   ],
   "source": [
    "df_fix.head()"
   ]
  },
  {
   "cell_type": "markdown",
   "id": "15af3630",
   "metadata": {},
   "source": [
    "# Security Implications:\n",
    "> The 'Full Name' column falls under PII data as it allows us to trace that back to an individual. "
   ]
  },
  {
   "cell_type": "code",
   "execution_count": 6,
   "id": "57c86597",
   "metadata": {},
   "outputs": [],
   "source": [
    "df_fix.drop(columns=['Full Name'], inplace=True)"
   ]
  },
  {
   "cell_type": "code",
   "execution_count": 7,
   "id": "65f8d3c4",
   "metadata": {},
   "outputs": [],
   "source": [
    "#display all columns\n",
    "pd.set_option('display.max_columns', None)"
   ]
  },
  {
   "cell_type": "code",
   "execution_count": 8,
   "id": "5523711e",
   "metadata": {},
   "outputs": [
    {
     "data": {
      "text/html": [
       "<div>\n",
       "<style scoped>\n",
       "    .dataframe tbody tr th:only-of-type {\n",
       "        vertical-align: middle;\n",
       "    }\n",
       "\n",
       "    .dataframe tbody tr th {\n",
       "        vertical-align: top;\n",
       "    }\n",
       "\n",
       "    .dataframe thead th {\n",
       "        text-align: right;\n",
       "    }\n",
       "</style>\n",
       "<table border=\"1\" class=\"dataframe\">\n",
       "  <thead>\n",
       "    <tr style=\"text-align: right;\">\n",
       "      <th></th>\n",
       "      <th>order_id</th>\n",
       "      <th>user_id</th>\n",
       "      <th>order_number</th>\n",
       "      <th>order_dow</th>\n",
       "      <th>order_hour_of_day</th>\n",
       "      <th>days_since_prior_order</th>\n",
       "      <th>product_id</th>\n",
       "      <th>add_to_cart_order</th>\n",
       "      <th>reordered</th>\n",
       "      <th>product_name</th>\n",
       "      <th>aisle_id</th>\n",
       "      <th>department_id</th>\n",
       "      <th>prices</th>\n",
       "      <th>price_range_loc</th>\n",
       "      <th>busiest_days</th>\n",
       "      <th>busiest_period_of_day</th>\n",
       "      <th>max_order</th>\n",
       "      <th>loyalty_flag</th>\n",
       "      <th>ave_prices</th>\n",
       "      <th>spend_flag</th>\n",
       "      <th>median_days_since_prior_order</th>\n",
       "      <th>freq_flag</th>\n",
       "      <th>Gender</th>\n",
       "      <th>State</th>\n",
       "      <th>Age</th>\n",
       "      <th>date_joined</th>\n",
       "      <th>Dependants</th>\n",
       "      <th>Status</th>\n",
       "      <th>income</th>\n",
       "      <th>merge_indicator</th>\n",
       "      <th>department</th>\n",
       "    </tr>\n",
       "  </thead>\n",
       "  <tbody>\n",
       "    <tr>\n",
       "      <th>0</th>\n",
       "      <td>2539329</td>\n",
       "      <td>1</td>\n",
       "      <td>1</td>\n",
       "      <td>2</td>\n",
       "      <td>8</td>\n",
       "      <td>NaN</td>\n",
       "      <td>196</td>\n",
       "      <td>1</td>\n",
       "      <td>0</td>\n",
       "      <td>Soda</td>\n",
       "      <td>77</td>\n",
       "      <td>7</td>\n",
       "      <td>9.0</td>\n",
       "      <td>Mid-range product</td>\n",
       "      <td>Regularly busy</td>\n",
       "      <td>Average orders</td>\n",
       "      <td>10</td>\n",
       "      <td>New customer</td>\n",
       "      <td>6.367797</td>\n",
       "      <td>low_spender</td>\n",
       "      <td>20.5</td>\n",
       "      <td>Non_Freq_customer</td>\n",
       "      <td>Female</td>\n",
       "      <td>Alabama</td>\n",
       "      <td>31</td>\n",
       "      <td>2/17/2019</td>\n",
       "      <td>3</td>\n",
       "      <td>married</td>\n",
       "      <td>40423</td>\n",
       "      <td>both</td>\n",
       "      <td>beverages</td>\n",
       "    </tr>\n",
       "    <tr>\n",
       "      <th>1</th>\n",
       "      <td>2539329</td>\n",
       "      <td>1</td>\n",
       "      <td>1</td>\n",
       "      <td>2</td>\n",
       "      <td>8</td>\n",
       "      <td>NaN</td>\n",
       "      <td>14084</td>\n",
       "      <td>2</td>\n",
       "      <td>0</td>\n",
       "      <td>Organic Unsweetened Vanilla Almond Milk</td>\n",
       "      <td>91</td>\n",
       "      <td>16</td>\n",
       "      <td>12.5</td>\n",
       "      <td>Mid-range product</td>\n",
       "      <td>Regularly busy</td>\n",
       "      <td>Average orders</td>\n",
       "      <td>10</td>\n",
       "      <td>New customer</td>\n",
       "      <td>6.367797</td>\n",
       "      <td>low_spender</td>\n",
       "      <td>20.5</td>\n",
       "      <td>Non_Freq_customer</td>\n",
       "      <td>Female</td>\n",
       "      <td>Alabama</td>\n",
       "      <td>31</td>\n",
       "      <td>2/17/2019</td>\n",
       "      <td>3</td>\n",
       "      <td>married</td>\n",
       "      <td>40423</td>\n",
       "      <td>both</td>\n",
       "      <td>dairy eggs</td>\n",
       "    </tr>\n",
       "    <tr>\n",
       "      <th>2</th>\n",
       "      <td>2539329</td>\n",
       "      <td>1</td>\n",
       "      <td>1</td>\n",
       "      <td>2</td>\n",
       "      <td>8</td>\n",
       "      <td>NaN</td>\n",
       "      <td>12427</td>\n",
       "      <td>3</td>\n",
       "      <td>0</td>\n",
       "      <td>Original Beef Jerky</td>\n",
       "      <td>23</td>\n",
       "      <td>19</td>\n",
       "      <td>4.4</td>\n",
       "      <td>Low-range product</td>\n",
       "      <td>Regularly busy</td>\n",
       "      <td>Average orders</td>\n",
       "      <td>10</td>\n",
       "      <td>New customer</td>\n",
       "      <td>6.367797</td>\n",
       "      <td>low_spender</td>\n",
       "      <td>20.5</td>\n",
       "      <td>Non_Freq_customer</td>\n",
       "      <td>Female</td>\n",
       "      <td>Alabama</td>\n",
       "      <td>31</td>\n",
       "      <td>2/17/2019</td>\n",
       "      <td>3</td>\n",
       "      <td>married</td>\n",
       "      <td>40423</td>\n",
       "      <td>both</td>\n",
       "      <td>snacks</td>\n",
       "    </tr>\n",
       "    <tr>\n",
       "      <th>3</th>\n",
       "      <td>2539329</td>\n",
       "      <td>1</td>\n",
       "      <td>1</td>\n",
       "      <td>2</td>\n",
       "      <td>8</td>\n",
       "      <td>NaN</td>\n",
       "      <td>26088</td>\n",
       "      <td>4</td>\n",
       "      <td>0</td>\n",
       "      <td>Aged White Cheddar Popcorn</td>\n",
       "      <td>23</td>\n",
       "      <td>19</td>\n",
       "      <td>4.7</td>\n",
       "      <td>Low-range product</td>\n",
       "      <td>Regularly busy</td>\n",
       "      <td>Average orders</td>\n",
       "      <td>10</td>\n",
       "      <td>New customer</td>\n",
       "      <td>6.367797</td>\n",
       "      <td>low_spender</td>\n",
       "      <td>20.5</td>\n",
       "      <td>Non_Freq_customer</td>\n",
       "      <td>Female</td>\n",
       "      <td>Alabama</td>\n",
       "      <td>31</td>\n",
       "      <td>2/17/2019</td>\n",
       "      <td>3</td>\n",
       "      <td>married</td>\n",
       "      <td>40423</td>\n",
       "      <td>both</td>\n",
       "      <td>snacks</td>\n",
       "    </tr>\n",
       "    <tr>\n",
       "      <th>4</th>\n",
       "      <td>2539329</td>\n",
       "      <td>1</td>\n",
       "      <td>1</td>\n",
       "      <td>2</td>\n",
       "      <td>8</td>\n",
       "      <td>NaN</td>\n",
       "      <td>26405</td>\n",
       "      <td>5</td>\n",
       "      <td>0</td>\n",
       "      <td>XL Pick-A-Size Paper Towel Rolls</td>\n",
       "      <td>54</td>\n",
       "      <td>17</td>\n",
       "      <td>1.0</td>\n",
       "      <td>Low-range product</td>\n",
       "      <td>Regularly busy</td>\n",
       "      <td>Average orders</td>\n",
       "      <td>10</td>\n",
       "      <td>New customer</td>\n",
       "      <td>6.367797</td>\n",
       "      <td>low_spender</td>\n",
       "      <td>20.5</td>\n",
       "      <td>Non_Freq_customer</td>\n",
       "      <td>Female</td>\n",
       "      <td>Alabama</td>\n",
       "      <td>31</td>\n",
       "      <td>2/17/2019</td>\n",
       "      <td>3</td>\n",
       "      <td>married</td>\n",
       "      <td>40423</td>\n",
       "      <td>both</td>\n",
       "      <td>household</td>\n",
       "    </tr>\n",
       "  </tbody>\n",
       "</table>\n",
       "</div>"
      ],
      "text/plain": [
       "   order_id  user_id  order_number  order_dow  order_hour_of_day  \\\n",
       "0   2539329        1             1          2                  8   \n",
       "1   2539329        1             1          2                  8   \n",
       "2   2539329        1             1          2                  8   \n",
       "3   2539329        1             1          2                  8   \n",
       "4   2539329        1             1          2                  8   \n",
       "\n",
       "   days_since_prior_order  product_id  add_to_cart_order  reordered  \\\n",
       "0                     NaN         196                  1          0   \n",
       "1                     NaN       14084                  2          0   \n",
       "2                     NaN       12427                  3          0   \n",
       "3                     NaN       26088                  4          0   \n",
       "4                     NaN       26405                  5          0   \n",
       "\n",
       "                              product_name  aisle_id  department_id  prices  \\\n",
       "0                                     Soda        77              7     9.0   \n",
       "1  Organic Unsweetened Vanilla Almond Milk        91             16    12.5   \n",
       "2                      Original Beef Jerky        23             19     4.4   \n",
       "3               Aged White Cheddar Popcorn        23             19     4.7   \n",
       "4         XL Pick-A-Size Paper Towel Rolls        54             17     1.0   \n",
       "\n",
       "     price_range_loc    busiest_days busiest_period_of_day  max_order  \\\n",
       "0  Mid-range product  Regularly busy        Average orders         10   \n",
       "1  Mid-range product  Regularly busy        Average orders         10   \n",
       "2  Low-range product  Regularly busy        Average orders         10   \n",
       "3  Low-range product  Regularly busy        Average orders         10   \n",
       "4  Low-range product  Regularly busy        Average orders         10   \n",
       "\n",
       "   loyalty_flag  ave_prices   spend_flag  median_days_since_prior_order  \\\n",
       "0  New customer    6.367797  low_spender                           20.5   \n",
       "1  New customer    6.367797  low_spender                           20.5   \n",
       "2  New customer    6.367797  low_spender                           20.5   \n",
       "3  New customer    6.367797  low_spender                           20.5   \n",
       "4  New customer    6.367797  low_spender                           20.5   \n",
       "\n",
       "           freq_flag  Gender    State  Age date_joined  Dependants   Status  \\\n",
       "0  Non_Freq_customer  Female  Alabama   31   2/17/2019           3  married   \n",
       "1  Non_Freq_customer  Female  Alabama   31   2/17/2019           3  married   \n",
       "2  Non_Freq_customer  Female  Alabama   31   2/17/2019           3  married   \n",
       "3  Non_Freq_customer  Female  Alabama   31   2/17/2019           3  married   \n",
       "4  Non_Freq_customer  Female  Alabama   31   2/17/2019           3  married   \n",
       "\n",
       "   income merge_indicator  department  \n",
       "0   40423            both   beverages  \n",
       "1   40423            both  dairy eggs  \n",
       "2   40423            both      snacks  \n",
       "3   40423            both      snacks  \n",
       "4   40423            both   household  "
      ]
     },
     "execution_count": 8,
     "metadata": {},
     "output_type": "execute_result"
    }
   ],
   "source": [
    "df_fix.head()"
   ]
  },
  {
   "cell_type": "markdown",
   "id": "e364b9eb",
   "metadata": {},
   "source": [
    "# Create a “Region” column based on the “State” column to compare customer behavior in different geographic areas"
   ]
  },
  {
   "cell_type": "code",
   "execution_count": 9,
   "id": "1918a016",
   "metadata": {},
   "outputs": [],
   "source": [
    "#Defining regions. Region 1\n",
    "state_to_region = {\n",
    "    'Maine': 'Region 1',\n",
    "    'New Hampshire': 'Region 1',\n",
    "    'Vermont': 'Region 1',\n",
    "    'Massachusetts': 'Region 1',\n",
    "    'Rhode Island': 'Region 1',\n",
    "    'Connecticut': 'Region 1',\n",
    "    'New York': 'Region 1',\n",
    "    'New Jersey': 'Region 1',\n",
    "    'Pennsylvania': 'Region 1'\n",
    "}"
   ]
  },
  {
   "cell_type": "code",
   "execution_count": 10,
   "id": "7c5b04dc",
   "metadata": {},
   "outputs": [],
   "source": [
    "#region 2\n",
    "state_to_region.update({\n",
    "    \n",
    "'Wisconsin': 'Region 2',\n",
    "'Michigan': 'Region 2',\n",
    "'Illinois': 'Region 2',\n",
    "'Indiana': 'Region 2',\n",
    "'Ohio': 'Region 2',\n",
    "'North Dakota': 'Region 2',\n",
    "'South Dakota': 'Region 2',\n",
    "'Nebraska': 'Region 2',\n",
    "'Kansas': 'Region 2',\n",
    "'Minnesota': 'Region 2',\n",
    "'Iowa': 'Region 2',\n",
    "'Missouri': 'Region 2'})\n"
   ]
  },
  {
   "cell_type": "code",
   "execution_count": 11,
   "id": "5222af8a",
   "metadata": {},
   "outputs": [],
   "source": [
    "#region 3\n",
    "state_to_region.update({\n",
    "\n",
    "'Delaware': 'Region 3',\n",
    "'Maryland': 'Region 3',\n",
    "'District of Columbia': 'Region 3',\n",
    "'Virginia': 'Region 3',\n",
    "'West Virginia': 'Region 3',\n",
    "'North Carolina': 'Region 3',\n",
    "'South Carolina': 'Region 3',\n",
    "'Georgia': 'Region 3',\n",
    "'Florida': 'Region 3',\n",
    "'Kentucky': 'Region 3',\n",
    "'Tennessee': 'Region 3',\n",
    "'Mississippi': 'Region 3',\n",
    "'Alabama': 'Region 3',\n",
    "'Oklahoma': 'Region 3',\n",
    "'Texas': 'Region 3',\n",
    "'Arkansas': 'Region 3',\n",
    "'Louisiana': 'Region 3'})"
   ]
  },
  {
   "cell_type": "code",
   "execution_count": 12,
   "id": "21dc7c78",
   "metadata": {},
   "outputs": [],
   "source": [
    "#region 4\n",
    "state_to_region.update({\n",
    "    'Idaho': 'Region 4',\n",
    "    'Montana': 'Region 4',\n",
    "    'Wyoming': 'Region 4',\n",
    "    'Nevada': 'Region 4',\n",
    "    'Utah': 'Region 4',\n",
    "    'Colorado': 'Region 4',\n",
    "    'Arizona': 'Region 4',\n",
    "    'New Mexico': 'Region 4',\n",
    "    'Alaska': 'Region 4',\n",
    "    'Washington': 'Region 4',\n",
    "    'Oregon': 'Region 4',\n",
    "    'California': 'Region 4',\n",
    "    'Hawaii': 'Region 4'})"
   ]
  },
  {
   "cell_type": "code",
   "execution_count": 13,
   "id": "c020ac74",
   "metadata": {},
   "outputs": [],
   "source": [
    "df_fix['region'] = df_fix['State'].map(state_to_region)"
   ]
  },
  {
   "cell_type": "code",
   "execution_count": 14,
   "id": "3b6f2613",
   "metadata": {},
   "outputs": [
    {
     "data": {
      "text/html": [
       "<div>\n",
       "<style scoped>\n",
       "    .dataframe tbody tr th:only-of-type {\n",
       "        vertical-align: middle;\n",
       "    }\n",
       "\n",
       "    .dataframe tbody tr th {\n",
       "        vertical-align: top;\n",
       "    }\n",
       "\n",
       "    .dataframe thead th {\n",
       "        text-align: right;\n",
       "    }\n",
       "</style>\n",
       "<table border=\"1\" class=\"dataframe\">\n",
       "  <thead>\n",
       "    <tr style=\"text-align: right;\">\n",
       "      <th></th>\n",
       "      <th>order_id</th>\n",
       "      <th>user_id</th>\n",
       "      <th>order_number</th>\n",
       "      <th>order_dow</th>\n",
       "      <th>order_hour_of_day</th>\n",
       "      <th>days_since_prior_order</th>\n",
       "      <th>product_id</th>\n",
       "      <th>add_to_cart_order</th>\n",
       "      <th>reordered</th>\n",
       "      <th>product_name</th>\n",
       "      <th>aisle_id</th>\n",
       "      <th>department_id</th>\n",
       "      <th>prices</th>\n",
       "      <th>price_range_loc</th>\n",
       "      <th>busiest_days</th>\n",
       "      <th>busiest_period_of_day</th>\n",
       "      <th>max_order</th>\n",
       "      <th>loyalty_flag</th>\n",
       "      <th>ave_prices</th>\n",
       "      <th>spend_flag</th>\n",
       "      <th>median_days_since_prior_order</th>\n",
       "      <th>freq_flag</th>\n",
       "      <th>Gender</th>\n",
       "      <th>State</th>\n",
       "      <th>Age</th>\n",
       "      <th>date_joined</th>\n",
       "      <th>Dependants</th>\n",
       "      <th>Status</th>\n",
       "      <th>income</th>\n",
       "      <th>merge_indicator</th>\n",
       "      <th>department</th>\n",
       "      <th>region</th>\n",
       "    </tr>\n",
       "  </thead>\n",
       "  <tbody>\n",
       "    <tr>\n",
       "      <th>32404854</th>\n",
       "      <td>2977660</td>\n",
       "      <td>206209</td>\n",
       "      <td>13</td>\n",
       "      <td>1</td>\n",
       "      <td>12</td>\n",
       "      <td>7.0</td>\n",
       "      <td>14197</td>\n",
       "      <td>5</td>\n",
       "      <td>1</td>\n",
       "      <td>Tomato Paste</td>\n",
       "      <td>9</td>\n",
       "      <td>9</td>\n",
       "      <td>5.6</td>\n",
       "      <td>Mid-range product</td>\n",
       "      <td>Busiest days</td>\n",
       "      <td>Most orders</td>\n",
       "      <td>13</td>\n",
       "      <td>Regular customer</td>\n",
       "      <td>7.058915</td>\n",
       "      <td>low_spender</td>\n",
       "      <td>22.0</td>\n",
       "      <td>Non_Freq_customer</td>\n",
       "      <td>Female</td>\n",
       "      <td>Iowa</td>\n",
       "      <td>74</td>\n",
       "      <td>9/14/2019</td>\n",
       "      <td>3</td>\n",
       "      <td>married</td>\n",
       "      <td>137969</td>\n",
       "      <td>both</td>\n",
       "      <td>dry goods pasta</td>\n",
       "      <td>Region 2</td>\n",
       "    </tr>\n",
       "    <tr>\n",
       "      <th>32404855</th>\n",
       "      <td>2977660</td>\n",
       "      <td>206209</td>\n",
       "      <td>13</td>\n",
       "      <td>1</td>\n",
       "      <td>12</td>\n",
       "      <td>7.0</td>\n",
       "      <td>38730</td>\n",
       "      <td>6</td>\n",
       "      <td>0</td>\n",
       "      <td>Brownie Crunch High Protein Bar</td>\n",
       "      <td>3</td>\n",
       "      <td>19</td>\n",
       "      <td>5.9</td>\n",
       "      <td>Mid-range product</td>\n",
       "      <td>Busiest days</td>\n",
       "      <td>Most orders</td>\n",
       "      <td>13</td>\n",
       "      <td>Regular customer</td>\n",
       "      <td>7.058915</td>\n",
       "      <td>low_spender</td>\n",
       "      <td>22.0</td>\n",
       "      <td>Non_Freq_customer</td>\n",
       "      <td>Female</td>\n",
       "      <td>Iowa</td>\n",
       "      <td>74</td>\n",
       "      <td>9/14/2019</td>\n",
       "      <td>3</td>\n",
       "      <td>married</td>\n",
       "      <td>137969</td>\n",
       "      <td>both</td>\n",
       "      <td>snacks</td>\n",
       "      <td>Region 2</td>\n",
       "    </tr>\n",
       "    <tr>\n",
       "      <th>32404856</th>\n",
       "      <td>2977660</td>\n",
       "      <td>206209</td>\n",
       "      <td>13</td>\n",
       "      <td>1</td>\n",
       "      <td>12</td>\n",
       "      <td>7.0</td>\n",
       "      <td>31477</td>\n",
       "      <td>7</td>\n",
       "      <td>0</td>\n",
       "      <td>High Protein Bar Chunky Peanut Butter</td>\n",
       "      <td>3</td>\n",
       "      <td>19</td>\n",
       "      <td>4.2</td>\n",
       "      <td>Low-range product</td>\n",
       "      <td>Busiest days</td>\n",
       "      <td>Most orders</td>\n",
       "      <td>13</td>\n",
       "      <td>Regular customer</td>\n",
       "      <td>7.058915</td>\n",
       "      <td>low_spender</td>\n",
       "      <td>22.0</td>\n",
       "      <td>Non_Freq_customer</td>\n",
       "      <td>Female</td>\n",
       "      <td>Iowa</td>\n",
       "      <td>74</td>\n",
       "      <td>9/14/2019</td>\n",
       "      <td>3</td>\n",
       "      <td>married</td>\n",
       "      <td>137969</td>\n",
       "      <td>both</td>\n",
       "      <td>snacks</td>\n",
       "      <td>Region 2</td>\n",
       "    </tr>\n",
       "    <tr>\n",
       "      <th>32404857</th>\n",
       "      <td>2977660</td>\n",
       "      <td>206209</td>\n",
       "      <td>13</td>\n",
       "      <td>1</td>\n",
       "      <td>12</td>\n",
       "      <td>7.0</td>\n",
       "      <td>6567</td>\n",
       "      <td>8</td>\n",
       "      <td>0</td>\n",
       "      <td>Chocolate Peanut Butter Protein Bar</td>\n",
       "      <td>3</td>\n",
       "      <td>19</td>\n",
       "      <td>4.9</td>\n",
       "      <td>Low-range product</td>\n",
       "      <td>Busiest days</td>\n",
       "      <td>Most orders</td>\n",
       "      <td>13</td>\n",
       "      <td>Regular customer</td>\n",
       "      <td>7.058915</td>\n",
       "      <td>low_spender</td>\n",
       "      <td>22.0</td>\n",
       "      <td>Non_Freq_customer</td>\n",
       "      <td>Female</td>\n",
       "      <td>Iowa</td>\n",
       "      <td>74</td>\n",
       "      <td>9/14/2019</td>\n",
       "      <td>3</td>\n",
       "      <td>married</td>\n",
       "      <td>137969</td>\n",
       "      <td>both</td>\n",
       "      <td>snacks</td>\n",
       "      <td>Region 2</td>\n",
       "    </tr>\n",
       "    <tr>\n",
       "      <th>32404858</th>\n",
       "      <td>2977660</td>\n",
       "      <td>206209</td>\n",
       "      <td>13</td>\n",
       "      <td>1</td>\n",
       "      <td>12</td>\n",
       "      <td>7.0</td>\n",
       "      <td>22920</td>\n",
       "      <td>9</td>\n",
       "      <td>0</td>\n",
       "      <td>Roasted &amp; Salted Shelled Pistachios</td>\n",
       "      <td>117</td>\n",
       "      <td>19</td>\n",
       "      <td>1.7</td>\n",
       "      <td>Low-range product</td>\n",
       "      <td>Busiest days</td>\n",
       "      <td>Most orders</td>\n",
       "      <td>13</td>\n",
       "      <td>Regular customer</td>\n",
       "      <td>7.058915</td>\n",
       "      <td>low_spender</td>\n",
       "      <td>22.0</td>\n",
       "      <td>Non_Freq_customer</td>\n",
       "      <td>Female</td>\n",
       "      <td>Iowa</td>\n",
       "      <td>74</td>\n",
       "      <td>9/14/2019</td>\n",
       "      <td>3</td>\n",
       "      <td>married</td>\n",
       "      <td>137969</td>\n",
       "      <td>both</td>\n",
       "      <td>snacks</td>\n",
       "      <td>Region 2</td>\n",
       "    </tr>\n",
       "  </tbody>\n",
       "</table>\n",
       "</div>"
      ],
      "text/plain": [
       "          order_id  user_id  order_number  order_dow  order_hour_of_day  \\\n",
       "32404854   2977660   206209            13          1                 12   \n",
       "32404855   2977660   206209            13          1                 12   \n",
       "32404856   2977660   206209            13          1                 12   \n",
       "32404857   2977660   206209            13          1                 12   \n",
       "32404858   2977660   206209            13          1                 12   \n",
       "\n",
       "          days_since_prior_order  product_id  add_to_cart_order  reordered  \\\n",
       "32404854                     7.0       14197                  5          1   \n",
       "32404855                     7.0       38730                  6          0   \n",
       "32404856                     7.0       31477                  7          0   \n",
       "32404857                     7.0        6567                  8          0   \n",
       "32404858                     7.0       22920                  9          0   \n",
       "\n",
       "                                   product_name  aisle_id  department_id  \\\n",
       "32404854                           Tomato Paste         9              9   \n",
       "32404855        Brownie Crunch High Protein Bar         3             19   \n",
       "32404856  High Protein Bar Chunky Peanut Butter         3             19   \n",
       "32404857    Chocolate Peanut Butter Protein Bar         3             19   \n",
       "32404858    Roasted & Salted Shelled Pistachios       117             19   \n",
       "\n",
       "          prices    price_range_loc  busiest_days busiest_period_of_day  \\\n",
       "32404854     5.6  Mid-range product  Busiest days           Most orders   \n",
       "32404855     5.9  Mid-range product  Busiest days           Most orders   \n",
       "32404856     4.2  Low-range product  Busiest days           Most orders   \n",
       "32404857     4.9  Low-range product  Busiest days           Most orders   \n",
       "32404858     1.7  Low-range product  Busiest days           Most orders   \n",
       "\n",
       "          max_order      loyalty_flag  ave_prices   spend_flag  \\\n",
       "32404854         13  Regular customer    7.058915  low_spender   \n",
       "32404855         13  Regular customer    7.058915  low_spender   \n",
       "32404856         13  Regular customer    7.058915  low_spender   \n",
       "32404857         13  Regular customer    7.058915  low_spender   \n",
       "32404858         13  Regular customer    7.058915  low_spender   \n",
       "\n",
       "          median_days_since_prior_order          freq_flag  Gender State  Age  \\\n",
       "32404854                           22.0  Non_Freq_customer  Female  Iowa   74   \n",
       "32404855                           22.0  Non_Freq_customer  Female  Iowa   74   \n",
       "32404856                           22.0  Non_Freq_customer  Female  Iowa   74   \n",
       "32404857                           22.0  Non_Freq_customer  Female  Iowa   74   \n",
       "32404858                           22.0  Non_Freq_customer  Female  Iowa   74   \n",
       "\n",
       "         date_joined  Dependants   Status  income merge_indicator  \\\n",
       "32404854   9/14/2019           3  married  137969            both   \n",
       "32404855   9/14/2019           3  married  137969            both   \n",
       "32404856   9/14/2019           3  married  137969            both   \n",
       "32404857   9/14/2019           3  married  137969            both   \n",
       "32404858   9/14/2019           3  married  137969            both   \n",
       "\n",
       "               department    region  \n",
       "32404854  dry goods pasta  Region 2  \n",
       "32404855           snacks  Region 2  \n",
       "32404856           snacks  Region 2  \n",
       "32404857           snacks  Region 2  \n",
       "32404858           snacks  Region 2  "
      ]
     },
     "execution_count": 14,
     "metadata": {},
     "output_type": "execute_result"
    }
   ],
   "source": [
    "df_fix.tail()"
   ]
  },
  {
   "cell_type": "code",
   "execution_count": 15,
   "id": "bbc267f1",
   "metadata": {},
   "outputs": [
    {
     "data": {
      "text/plain": [
       "0"
      ]
     },
     "execution_count": 15,
     "metadata": {},
     "output_type": "execute_result"
    }
   ],
   "source": [
    "#Checking if any row does not have region data\n",
    "df_fix['region'].isnull().sum()"
   ]
  },
  {
   "cell_type": "markdown",
   "id": "36ebf54d",
   "metadata": {},
   "source": [
    "# Cross Region variable with the spending flag to determine spending habits across regions"
   ]
  },
  {
   "cell_type": "code",
   "execution_count": 16,
   "id": "e3395e9d",
   "metadata": {},
   "outputs": [],
   "source": [
    "crosstab_Region_Spend = pd.crosstab(df_fix['region'], df_fix['spend_flag'], dropna = False)"
   ]
  },
  {
   "cell_type": "code",
   "execution_count": 17,
   "id": "4bf24c0d",
   "metadata": {},
   "outputs": [
    {
     "data": {
      "text/html": [
       "<div>\n",
       "<style scoped>\n",
       "    .dataframe tbody tr th:only-of-type {\n",
       "        vertical-align: middle;\n",
       "    }\n",
       "\n",
       "    .dataframe tbody tr th {\n",
       "        vertical-align: top;\n",
       "    }\n",
       "\n",
       "    .dataframe thead th {\n",
       "        text-align: right;\n",
       "    }\n",
       "</style>\n",
       "<table border=\"1\" class=\"dataframe\">\n",
       "  <thead>\n",
       "    <tr style=\"text-align: right;\">\n",
       "      <th>spend_flag</th>\n",
       "      <th>high_spender</th>\n",
       "      <th>low_spender</th>\n",
       "    </tr>\n",
       "    <tr>\n",
       "      <th>region</th>\n",
       "      <th></th>\n",
       "      <th></th>\n",
       "    </tr>\n",
       "  </thead>\n",
       "  <tbody>\n",
       "    <tr>\n",
       "      <th>Region 1</th>\n",
       "      <td>108225</td>\n",
       "      <td>5614511</td>\n",
       "    </tr>\n",
       "    <tr>\n",
       "      <th>Region 2</th>\n",
       "      <td>155975</td>\n",
       "      <td>7441350</td>\n",
       "    </tr>\n",
       "    <tr>\n",
       "      <th>Region 3</th>\n",
       "      <td>209691</td>\n",
       "      <td>10582194</td>\n",
       "    </tr>\n",
       "    <tr>\n",
       "      <th>Region 4</th>\n",
       "      <td>160354</td>\n",
       "      <td>8132559</td>\n",
       "    </tr>\n",
       "  </tbody>\n",
       "</table>\n",
       "</div>"
      ],
      "text/plain": [
       "spend_flag  high_spender  low_spender\n",
       "region                               \n",
       "Region 1          108225      5614511\n",
       "Region 2          155975      7441350\n",
       "Region 3          209691     10582194\n",
       "Region 4          160354      8132559"
      ]
     },
     "execution_count": 17,
     "metadata": {},
     "output_type": "execute_result"
    }
   ],
   "source": [
    "crosstab_Region_Spend"
   ]
  },
  {
   "cell_type": "code",
   "execution_count": 18,
   "id": "d775dc4a",
   "metadata": {},
   "outputs": [],
   "source": [
    "crosstab_Region_Spend['Row Sums'] = crosstab_Region_Spend.sum(axis=1)"
   ]
  },
  {
   "cell_type": "code",
   "execution_count": 19,
   "id": "25f6364e",
   "metadata": {},
   "outputs": [
    {
     "data": {
      "text/html": [
       "<div>\n",
       "<style scoped>\n",
       "    .dataframe tbody tr th:only-of-type {\n",
       "        vertical-align: middle;\n",
       "    }\n",
       "\n",
       "    .dataframe tbody tr th {\n",
       "        vertical-align: top;\n",
       "    }\n",
       "\n",
       "    .dataframe thead th {\n",
       "        text-align: right;\n",
       "    }\n",
       "</style>\n",
       "<table border=\"1\" class=\"dataframe\">\n",
       "  <thead>\n",
       "    <tr style=\"text-align: right;\">\n",
       "      <th>spend_flag</th>\n",
       "      <th>high_spender</th>\n",
       "      <th>low_spender</th>\n",
       "      <th>Row Sums</th>\n",
       "    </tr>\n",
       "    <tr>\n",
       "      <th>region</th>\n",
       "      <th></th>\n",
       "      <th></th>\n",
       "      <th></th>\n",
       "    </tr>\n",
       "  </thead>\n",
       "  <tbody>\n",
       "    <tr>\n",
       "      <th>Region 1</th>\n",
       "      <td>108225</td>\n",
       "      <td>5614511</td>\n",
       "      <td>5722736</td>\n",
       "    </tr>\n",
       "    <tr>\n",
       "      <th>Region 2</th>\n",
       "      <td>155975</td>\n",
       "      <td>7441350</td>\n",
       "      <td>7597325</td>\n",
       "    </tr>\n",
       "    <tr>\n",
       "      <th>Region 3</th>\n",
       "      <td>209691</td>\n",
       "      <td>10582194</td>\n",
       "      <td>10791885</td>\n",
       "    </tr>\n",
       "    <tr>\n",
       "      <th>Region 4</th>\n",
       "      <td>160354</td>\n",
       "      <td>8132559</td>\n",
       "      <td>8292913</td>\n",
       "    </tr>\n",
       "  </tbody>\n",
       "</table>\n",
       "</div>"
      ],
      "text/plain": [
       "spend_flag  high_spender  low_spender  Row Sums\n",
       "region                                         \n",
       "Region 1          108225      5614511   5722736\n",
       "Region 2          155975      7441350   7597325\n",
       "Region 3          209691     10582194  10791885\n",
       "Region 4          160354      8132559   8292913"
      ]
     },
     "execution_count": 19,
     "metadata": {},
     "output_type": "execute_result"
    }
   ],
   "source": [
    "crosstab_Region_Spend"
   ]
  },
  {
   "cell_type": "code",
   "execution_count": 20,
   "id": "7b997c5d",
   "metadata": {},
   "outputs": [],
   "source": [
    "crosstab_Region_Spend.to_clipboard()\n",
    "#calculation of proportion done on excel"
   ]
  },
  {
   "cell_type": "markdown",
   "id": "34354b49",
   "metadata": {},
   "source": [
    "#  Customer behavior in different geographic areas insights:\n",
    "### Region 3 has the highest number of high spenders, as well as low spenders. \n",
    "### Region 1 has the lowest number of high spenders, as well as low spenders. \n",
    "### However, it should be noted that each region has a different sum of customers, therefore, it would be useful to look at the proportions. \n",
    "### When looking at proportions, high spenders across all 4 regions are 2% of the total, and low spenders are 98%. Therefore, there isn't a significant difference in spending habits across regions. "
   ]
  },
  {
   "cell_type": "markdown",
   "id": "170e668c",
   "metadata": {},
   "source": [
    "# Create an exclusion flag for low-activity customers (customers with less than 5 orders) "
   ]
  },
  {
   "cell_type": "code",
   "execution_count": 21,
   "id": "55fa586a",
   "metadata": {},
   "outputs": [],
   "source": [
    "# Create an exclusion flag for low-activity customers (customers with less than 5 orders) \n",
    "# exclude them from the data. export this sample."
   ]
  },
  {
   "cell_type": "code",
   "execution_count": 22,
   "id": "496a7b52",
   "metadata": {},
   "outputs": [],
   "source": [
    "# Create a flag for customer activity\n",
    "df_fix.loc[df_fix['max_order'] < 5, 'Activity Flag'] = 'low activity'\n",
    "df_fix.loc[df_fix['max_order'] >= 5, 'Activity Flag'] = 'regular activity'"
   ]
  },
  {
   "cell_type": "code",
   "execution_count": 23,
   "id": "e1f78fd4",
   "metadata": {},
   "outputs": [
    {
     "data": {
      "text/html": [
       "<div>\n",
       "<style scoped>\n",
       "    .dataframe tbody tr th:only-of-type {\n",
       "        vertical-align: middle;\n",
       "    }\n",
       "\n",
       "    .dataframe tbody tr th {\n",
       "        vertical-align: top;\n",
       "    }\n",
       "\n",
       "    .dataframe thead th {\n",
       "        text-align: right;\n",
       "    }\n",
       "</style>\n",
       "<table border=\"1\" class=\"dataframe\">\n",
       "  <thead>\n",
       "    <tr style=\"text-align: right;\">\n",
       "      <th></th>\n",
       "      <th>order_id</th>\n",
       "      <th>user_id</th>\n",
       "      <th>order_number</th>\n",
       "      <th>order_dow</th>\n",
       "      <th>order_hour_of_day</th>\n",
       "      <th>days_since_prior_order</th>\n",
       "      <th>product_id</th>\n",
       "      <th>add_to_cart_order</th>\n",
       "      <th>reordered</th>\n",
       "      <th>product_name</th>\n",
       "      <th>aisle_id</th>\n",
       "      <th>department_id</th>\n",
       "      <th>prices</th>\n",
       "      <th>price_range_loc</th>\n",
       "      <th>busiest_days</th>\n",
       "      <th>busiest_period_of_day</th>\n",
       "      <th>max_order</th>\n",
       "      <th>loyalty_flag</th>\n",
       "      <th>ave_prices</th>\n",
       "      <th>spend_flag</th>\n",
       "      <th>median_days_since_prior_order</th>\n",
       "      <th>freq_flag</th>\n",
       "      <th>Gender</th>\n",
       "      <th>State</th>\n",
       "      <th>Age</th>\n",
       "      <th>date_joined</th>\n",
       "      <th>Dependants</th>\n",
       "      <th>Status</th>\n",
       "      <th>income</th>\n",
       "      <th>merge_indicator</th>\n",
       "      <th>department</th>\n",
       "      <th>region</th>\n",
       "      <th>Activity Flag</th>\n",
       "    </tr>\n",
       "  </thead>\n",
       "  <tbody>\n",
       "    <tr>\n",
       "      <th>0</th>\n",
       "      <td>2539329</td>\n",
       "      <td>1</td>\n",
       "      <td>1</td>\n",
       "      <td>2</td>\n",
       "      <td>8</td>\n",
       "      <td>NaN</td>\n",
       "      <td>196</td>\n",
       "      <td>1</td>\n",
       "      <td>0</td>\n",
       "      <td>Soda</td>\n",
       "      <td>77</td>\n",
       "      <td>7</td>\n",
       "      <td>9.0</td>\n",
       "      <td>Mid-range product</td>\n",
       "      <td>Regularly busy</td>\n",
       "      <td>Average orders</td>\n",
       "      <td>10</td>\n",
       "      <td>New customer</td>\n",
       "      <td>6.367797</td>\n",
       "      <td>low_spender</td>\n",
       "      <td>20.5</td>\n",
       "      <td>Non_Freq_customer</td>\n",
       "      <td>Female</td>\n",
       "      <td>Alabama</td>\n",
       "      <td>31</td>\n",
       "      <td>2/17/2019</td>\n",
       "      <td>3</td>\n",
       "      <td>married</td>\n",
       "      <td>40423</td>\n",
       "      <td>both</td>\n",
       "      <td>beverages</td>\n",
       "      <td>Region 3</td>\n",
       "      <td>regular activity</td>\n",
       "    </tr>\n",
       "    <tr>\n",
       "      <th>1</th>\n",
       "      <td>2539329</td>\n",
       "      <td>1</td>\n",
       "      <td>1</td>\n",
       "      <td>2</td>\n",
       "      <td>8</td>\n",
       "      <td>NaN</td>\n",
       "      <td>14084</td>\n",
       "      <td>2</td>\n",
       "      <td>0</td>\n",
       "      <td>Organic Unsweetened Vanilla Almond Milk</td>\n",
       "      <td>91</td>\n",
       "      <td>16</td>\n",
       "      <td>12.5</td>\n",
       "      <td>Mid-range product</td>\n",
       "      <td>Regularly busy</td>\n",
       "      <td>Average orders</td>\n",
       "      <td>10</td>\n",
       "      <td>New customer</td>\n",
       "      <td>6.367797</td>\n",
       "      <td>low_spender</td>\n",
       "      <td>20.5</td>\n",
       "      <td>Non_Freq_customer</td>\n",
       "      <td>Female</td>\n",
       "      <td>Alabama</td>\n",
       "      <td>31</td>\n",
       "      <td>2/17/2019</td>\n",
       "      <td>3</td>\n",
       "      <td>married</td>\n",
       "      <td>40423</td>\n",
       "      <td>both</td>\n",
       "      <td>dairy eggs</td>\n",
       "      <td>Region 3</td>\n",
       "      <td>regular activity</td>\n",
       "    </tr>\n",
       "    <tr>\n",
       "      <th>2</th>\n",
       "      <td>2539329</td>\n",
       "      <td>1</td>\n",
       "      <td>1</td>\n",
       "      <td>2</td>\n",
       "      <td>8</td>\n",
       "      <td>NaN</td>\n",
       "      <td>12427</td>\n",
       "      <td>3</td>\n",
       "      <td>0</td>\n",
       "      <td>Original Beef Jerky</td>\n",
       "      <td>23</td>\n",
       "      <td>19</td>\n",
       "      <td>4.4</td>\n",
       "      <td>Low-range product</td>\n",
       "      <td>Regularly busy</td>\n",
       "      <td>Average orders</td>\n",
       "      <td>10</td>\n",
       "      <td>New customer</td>\n",
       "      <td>6.367797</td>\n",
       "      <td>low_spender</td>\n",
       "      <td>20.5</td>\n",
       "      <td>Non_Freq_customer</td>\n",
       "      <td>Female</td>\n",
       "      <td>Alabama</td>\n",
       "      <td>31</td>\n",
       "      <td>2/17/2019</td>\n",
       "      <td>3</td>\n",
       "      <td>married</td>\n",
       "      <td>40423</td>\n",
       "      <td>both</td>\n",
       "      <td>snacks</td>\n",
       "      <td>Region 3</td>\n",
       "      <td>regular activity</td>\n",
       "    </tr>\n",
       "    <tr>\n",
       "      <th>3</th>\n",
       "      <td>2539329</td>\n",
       "      <td>1</td>\n",
       "      <td>1</td>\n",
       "      <td>2</td>\n",
       "      <td>8</td>\n",
       "      <td>NaN</td>\n",
       "      <td>26088</td>\n",
       "      <td>4</td>\n",
       "      <td>0</td>\n",
       "      <td>Aged White Cheddar Popcorn</td>\n",
       "      <td>23</td>\n",
       "      <td>19</td>\n",
       "      <td>4.7</td>\n",
       "      <td>Low-range product</td>\n",
       "      <td>Regularly busy</td>\n",
       "      <td>Average orders</td>\n",
       "      <td>10</td>\n",
       "      <td>New customer</td>\n",
       "      <td>6.367797</td>\n",
       "      <td>low_spender</td>\n",
       "      <td>20.5</td>\n",
       "      <td>Non_Freq_customer</td>\n",
       "      <td>Female</td>\n",
       "      <td>Alabama</td>\n",
       "      <td>31</td>\n",
       "      <td>2/17/2019</td>\n",
       "      <td>3</td>\n",
       "      <td>married</td>\n",
       "      <td>40423</td>\n",
       "      <td>both</td>\n",
       "      <td>snacks</td>\n",
       "      <td>Region 3</td>\n",
       "      <td>regular activity</td>\n",
       "    </tr>\n",
       "    <tr>\n",
       "      <th>4</th>\n",
       "      <td>2539329</td>\n",
       "      <td>1</td>\n",
       "      <td>1</td>\n",
       "      <td>2</td>\n",
       "      <td>8</td>\n",
       "      <td>NaN</td>\n",
       "      <td>26405</td>\n",
       "      <td>5</td>\n",
       "      <td>0</td>\n",
       "      <td>XL Pick-A-Size Paper Towel Rolls</td>\n",
       "      <td>54</td>\n",
       "      <td>17</td>\n",
       "      <td>1.0</td>\n",
       "      <td>Low-range product</td>\n",
       "      <td>Regularly busy</td>\n",
       "      <td>Average orders</td>\n",
       "      <td>10</td>\n",
       "      <td>New customer</td>\n",
       "      <td>6.367797</td>\n",
       "      <td>low_spender</td>\n",
       "      <td>20.5</td>\n",
       "      <td>Non_Freq_customer</td>\n",
       "      <td>Female</td>\n",
       "      <td>Alabama</td>\n",
       "      <td>31</td>\n",
       "      <td>2/17/2019</td>\n",
       "      <td>3</td>\n",
       "      <td>married</td>\n",
       "      <td>40423</td>\n",
       "      <td>both</td>\n",
       "      <td>household</td>\n",
       "      <td>Region 3</td>\n",
       "      <td>regular activity</td>\n",
       "    </tr>\n",
       "  </tbody>\n",
       "</table>\n",
       "</div>"
      ],
      "text/plain": [
       "   order_id  user_id  order_number  order_dow  order_hour_of_day  \\\n",
       "0   2539329        1             1          2                  8   \n",
       "1   2539329        1             1          2                  8   \n",
       "2   2539329        1             1          2                  8   \n",
       "3   2539329        1             1          2                  8   \n",
       "4   2539329        1             1          2                  8   \n",
       "\n",
       "   days_since_prior_order  product_id  add_to_cart_order  reordered  \\\n",
       "0                     NaN         196                  1          0   \n",
       "1                     NaN       14084                  2          0   \n",
       "2                     NaN       12427                  3          0   \n",
       "3                     NaN       26088                  4          0   \n",
       "4                     NaN       26405                  5          0   \n",
       "\n",
       "                              product_name  aisle_id  department_id  prices  \\\n",
       "0                                     Soda        77              7     9.0   \n",
       "1  Organic Unsweetened Vanilla Almond Milk        91             16    12.5   \n",
       "2                      Original Beef Jerky        23             19     4.4   \n",
       "3               Aged White Cheddar Popcorn        23             19     4.7   \n",
       "4         XL Pick-A-Size Paper Towel Rolls        54             17     1.0   \n",
       "\n",
       "     price_range_loc    busiest_days busiest_period_of_day  max_order  \\\n",
       "0  Mid-range product  Regularly busy        Average orders         10   \n",
       "1  Mid-range product  Regularly busy        Average orders         10   \n",
       "2  Low-range product  Regularly busy        Average orders         10   \n",
       "3  Low-range product  Regularly busy        Average orders         10   \n",
       "4  Low-range product  Regularly busy        Average orders         10   \n",
       "\n",
       "   loyalty_flag  ave_prices   spend_flag  median_days_since_prior_order  \\\n",
       "0  New customer    6.367797  low_spender                           20.5   \n",
       "1  New customer    6.367797  low_spender                           20.5   \n",
       "2  New customer    6.367797  low_spender                           20.5   \n",
       "3  New customer    6.367797  low_spender                           20.5   \n",
       "4  New customer    6.367797  low_spender                           20.5   \n",
       "\n",
       "           freq_flag  Gender    State  Age date_joined  Dependants   Status  \\\n",
       "0  Non_Freq_customer  Female  Alabama   31   2/17/2019           3  married   \n",
       "1  Non_Freq_customer  Female  Alabama   31   2/17/2019           3  married   \n",
       "2  Non_Freq_customer  Female  Alabama   31   2/17/2019           3  married   \n",
       "3  Non_Freq_customer  Female  Alabama   31   2/17/2019           3  married   \n",
       "4  Non_Freq_customer  Female  Alabama   31   2/17/2019           3  married   \n",
       "\n",
       "   income merge_indicator  department    region     Activity Flag  \n",
       "0   40423            both   beverages  Region 3  regular activity  \n",
       "1   40423            both  dairy eggs  Region 3  regular activity  \n",
       "2   40423            both      snacks  Region 3  regular activity  \n",
       "3   40423            both      snacks  Region 3  regular activity  \n",
       "4   40423            both   household  Region 3  regular activity  "
      ]
     },
     "execution_count": 23,
     "metadata": {},
     "output_type": "execute_result"
    }
   ],
   "source": [
    "df_fix.head()"
   ]
  },
  {
   "cell_type": "code",
   "execution_count": 24,
   "id": "f95c85b9",
   "metadata": {},
   "outputs": [
    {
     "data": {
      "text/plain": [
       "Activity Flag\n",
       "regular activity    30964564\n",
       "low activity         1440295\n",
       "Name: count, dtype: int64"
      ]
     },
     "execution_count": 24,
     "metadata": {},
     "output_type": "execute_result"
    }
   ],
   "source": [
    "# print the frequency of your new “flag”\n",
    "df_fix['Activity Flag'].value_counts(dropna=False)"
   ]
  },
  {
   "cell_type": "code",
   "execution_count": 25,
   "id": "dda36a63",
   "metadata": {},
   "outputs": [
    {
     "data": {
      "text/plain": [
       "(32404859, 33)"
      ]
     },
     "execution_count": 25,
     "metadata": {},
     "output_type": "execute_result"
    }
   ],
   "source": [
    "df_fix.shape"
   ]
  },
  {
   "cell_type": "code",
   "execution_count": 26,
   "id": "5b8e76be",
   "metadata": {},
   "outputs": [],
   "source": [
    "#Exclude low activity from the data. "
   ]
  },
  {
   "cell_type": "code",
   "execution_count": 27,
   "id": "0ea0d53c",
   "metadata": {},
   "outputs": [],
   "source": [
    "condition = df_fix['Activity Flag'] == 'regular activity'"
   ]
  },
  {
   "cell_type": "code",
   "execution_count": 28,
   "id": "207cc75a",
   "metadata": {},
   "outputs": [],
   "source": [
    "df_reg_activity = df_fix.loc[condition]"
   ]
  },
  {
   "cell_type": "code",
   "execution_count": 29,
   "id": "36d32a6b",
   "metadata": {},
   "outputs": [
    {
     "data": {
      "text/plain": [
       "array(['regular activity'], dtype=object)"
      ]
     },
     "execution_count": 29,
     "metadata": {},
     "output_type": "execute_result"
    }
   ],
   "source": [
    "#checking values in the column\n",
    "df_reg_activity['Activity Flag'].unique()"
   ]
  },
  {
   "cell_type": "markdown",
   "id": "f9babf89",
   "metadata": {},
   "source": [
    "# Export data excluding 'low activity' customers"
   ]
  },
  {
   "cell_type": "code",
   "execution_count": 30,
   "id": "8cad014b",
   "metadata": {},
   "outputs": [],
   "source": [
    "df_reg_activity.to_pickle(os.path.join(path, '02 Data','Prepared Data', 'Merged_data_REG_activity.pkl'))"
   ]
  },
  {
   "cell_type": "code",
   "execution_count": 31,
   "id": "387a9210",
   "metadata": {},
   "outputs": [
    {
     "data": {
      "text/plain": [
       "(30964564, 33)"
      ]
     },
     "execution_count": 31,
     "metadata": {},
     "output_type": "execute_result"
    }
   ],
   "source": [
    "df_reg_activity.shape"
   ]
  },
  {
   "cell_type": "code",
   "execution_count": 33,
   "id": "1c6c9fd0",
   "metadata": {},
   "outputs": [
    {
     "data": {
      "text/plain": [
       "(32404859, 33)"
      ]
     },
     "execution_count": 33,
     "metadata": {},
     "output_type": "execute_result"
    }
   ],
   "source": [
    "df_fix.shape"
   ]
  },
  {
   "cell_type": "markdown",
   "id": "e69df43b",
   "metadata": {},
   "source": [
    "# Create a profile variable"
   ]
  },
  {
   "cell_type": "code",
   "execution_count": 34,
   "id": "985d3e14",
   "metadata": {},
   "outputs": [],
   "source": [
    "df2=df_reg_activity"
   ]
  },
  {
   "cell_type": "code",
   "execution_count": 35,
   "id": "fa895f8a",
   "metadata": {},
   "outputs": [
    {
     "data": {
      "text/plain": [
       "25.0"
      ]
     },
     "execution_count": 35,
     "metadata": {},
     "output_type": "execute_result"
    }
   ],
   "source": [
    "df2['prices'].max()"
   ]
  },
  {
   "cell_type": "code",
   "execution_count": 37,
   "id": "18e87b68",
   "metadata": {},
   "outputs": [
    {
     "data": {
      "text/plain": [
       "array(['married', 'divorced/widowed', 'single',\n",
       "       'living with parents and siblings'], dtype=object)"
      ]
     },
     "execution_count": 37,
     "metadata": {},
     "output_type": "execute_result"
    }
   ],
   "source": [
    "df2['Status'].unique()"
   ]
  },
  {
   "cell_type": "code",
   "execution_count": 38,
   "id": "259b5aa6",
   "metadata": {},
   "outputs": [
    {
     "data": {
      "text/plain": [
       "array([3, 2, 0, 1])"
      ]
     },
     "execution_count": 38,
     "metadata": {},
     "output_type": "execute_result"
    }
   ],
   "source": [
    "df2['Dependants'].unique()"
   ]
  },
  {
   "cell_type": "markdown",
   "id": "99bca1b9",
   "metadata": {},
   "source": [
    "## A profile will be created based on income, number of dependants and status. In this profile, customers will be categorised according to: Bargain finders, Luxury lovers, and Regular shoppers. \n",
    "\n",
    "## This could help with marketing strategies, for example targeting luxury lovers with more expensive products. "
   ]
  },
  {
   "cell_type": "markdown",
   "id": "1a04cbd9",
   "metadata": {},
   "source": [
    "### The criteria is:\n",
    "#### Bargain finder:  living with parents and siblings, lower than average income, and 2 or more dependants.\n",
    "#### Luxury lover: single or married or divorced/widowed, higher than average income, and 1 or less dependants\n",
    "#### Regular shopper: Everything else will be categorised as a regular shopper that likely purchases a range of products. "
   ]
  },
  {
   "cell_type": "code",
   "execution_count": 39,
   "id": "ea152161",
   "metadata": {},
   "outputs": [],
   "source": [
    "#find ave income\n",
    "average_income = df2['income'].mean()"
   ]
  },
  {
   "cell_type": "code",
   "execution_count": 40,
   "id": "a8d826c8",
   "metadata": {},
   "outputs": [
    {
     "data": {
      "text/plain": [
       "99675.86510754681"
      ]
     },
     "execution_count": 40,
     "metadata": {},
     "output_type": "execute_result"
    }
   ],
   "source": [
    "average_income"
   ]
  },
  {
   "cell_type": "markdown",
   "id": "b72c4d9a",
   "metadata": {},
   "source": [
    "#### Setting the criteria"
   ]
  },
  {
   "cell_type": "code",
   "execution_count": 41,
   "id": "77a2dafb",
   "metadata": {},
   "outputs": [
    {
     "name": "stderr",
     "output_type": "stream",
     "text": [
      "/var/folders/1g/ch7w9_k56pj78tjf9gzlt8zm0000gn/T/ipykernel_85387/756440044.py:2: SettingWithCopyWarning: \n",
      "A value is trying to be set on a copy of a slice from a DataFrame.\n",
      "Try using .loc[row_indexer,col_indexer] = value instead\n",
      "\n",
      "See the caveats in the documentation: https://pandas.pydata.org/pandas-docs/stable/user_guide/indexing.html#returning-a-view-versus-a-copy\n",
      "  df2.loc[(df2['Status'] == 'living with parents and siblings') & (df2['income']<= average_income) & (df2['Dependants']>=2) ,'Customer_Profile'] = 'bargain_finder'\n"
     ]
    }
   ],
   "source": [
    "#bargain finder\n",
    "df2.loc[(df2['Status'] == 'living with parents and siblings') & (df2['income']<= average_income) & (df2['Dependants']>=2) ,'Customer_Profile'] = 'bargain_finder'\n",
    "#luxury lover\n",
    "df2.loc[(df2['Status'].isin(['single', 'married', 'divorced/widowed'])) & (df2['income']>= average_income) & (df2['Dependants']<=2),'Customer_Profile'] = 'luxury_lover'\n",
    "#regular shopper (everything else)\n",
    "df2.loc[df2['Customer_Profile'].isna(), 'Customer_Profile'] = 'regular_shopper'"
   ]
  },
  {
   "cell_type": "code",
   "execution_count": 42,
   "id": "d792c928",
   "metadata": {},
   "outputs": [
    {
     "data": {
      "text/plain": [
       "Customer_Profile\n",
       "regular_shopper    19328358\n",
       "luxury_lover       10696296\n",
       "bargain_finder       939910\n",
       "Name: count, dtype: int64"
      ]
     },
     "execution_count": 42,
     "metadata": {},
     "output_type": "execute_result"
    }
   ],
   "source": [
    "df2['Customer_Profile'].value_counts()"
   ]
  },
  {
   "cell_type": "markdown",
   "id": "78969f4d",
   "metadata": {},
   "source": [
    "# Bar chart shows the distribution of customer profiles"
   ]
  },
  {
   "cell_type": "code",
   "execution_count": 43,
   "id": "57f5590d",
   "metadata": {},
   "outputs": [
    {
     "data": {
      "text/plain": [
       "Text(0.5, 1.0, 'Distribution by customer profile')"
      ]
     },
     "execution_count": 43,
     "metadata": {},
     "output_type": "execute_result"
    },
    {
     "data": {
      "image/png": "[encoded data removed]",
      "text/plain": [
       "<Figure size 640x480 with 1 Axes>"
      ]
     },
     "metadata": {},
     "output_type": "display_data"
    }
   ],
   "source": [
    "bar0=df2['Customer_Profile'].value_counts().plot.bar()\n",
    "bar0.set_title('Distribution by customer profile')\n"
   ]
  },
  {
   "cell_type": "code",
   "execution_count": 44,
   "id": "8f14a175",
   "metadata": {},
   "outputs": [],
   "source": [
    "bar0.figure.savefig(os.path.join(path, '04 Analysis', 'Visualisations', 'no_of_custprofile.png'), bbox_inches='tight')\n"
   ]
  },
  {
   "cell_type": "markdown",
   "id": "9c490386",
   "metadata": {},
   "source": [
    "# Aggregate the max, mean, and min variables on a customer-profile level for usage frequency and expenditure."
   ]
  },
  {
   "cell_type": "code",
   "execution_count": 45,
   "id": "fa6bc639",
   "metadata": {},
   "outputs": [],
   "source": [
    "#filter DF to 'regular_shopper'\n",
    "regular_df = df2[df2['Customer_Profile'] == 'regular_shopper']"
   ]
  },
  {
   "cell_type": "code",
   "execution_count": 46,
   "id": "01a32675",
   "metadata": {},
   "outputs": [],
   "source": [
    "#mean of regular shopper\n",
    "reg_mean=regular_df['prices'].mean()"
   ]
  },
  {
   "cell_type": "code",
   "execution_count": 47,
   "id": "fd5daf7a",
   "metadata": {},
   "outputs": [],
   "source": [
    "#min of regular shopper\n",
    "reg_min=regular_df['prices'].min()"
   ]
  },
  {
   "cell_type": "code",
   "execution_count": 48,
   "id": "82f70382",
   "metadata": {},
   "outputs": [],
   "source": [
    "#max of regular shopper\n",
    "reg_max=regular_df['prices'].max()"
   ]
  },
  {
   "cell_type": "code",
   "execution_count": 49,
   "id": "18a51cb3",
   "metadata": {},
   "outputs": [],
   "source": [
    "#median of 'days since order'\n",
    "reg_median=regular_df['days_since_prior_order'].median()"
   ]
  },
  {
   "cell_type": "code",
   "execution_count": 50,
   "id": "d2b43fdf",
   "metadata": {},
   "outputs": [],
   "source": [
    "\n",
    "summary_table_reg = pd.DataFrame({\n",
    "    'Statistics': ['Mean', 'Min', 'Max'],\n",
    "    'Prices': [reg_mean, reg_min, reg_max]})"
   ]
  },
  {
   "cell_type": "markdown",
   "id": "f1d7abef",
   "metadata": {},
   "source": [
    "### Summary table of regular shopper\n"
   ]
  },
  {
   "cell_type": "code",
   "execution_count": 51,
   "id": "86f2e81c",
   "metadata": {},
   "outputs": [
    {
     "data": {
      "text/html": [
       "<div>\n",
       "<style scoped>\n",
       "    .dataframe tbody tr th:only-of-type {\n",
       "        vertical-align: middle;\n",
       "    }\n",
       "\n",
       "    .dataframe tbody tr th {\n",
       "        vertical-align: top;\n",
       "    }\n",
       "\n",
       "    .dataframe thead th {\n",
       "        text-align: right;\n",
       "    }\n",
       "</style>\n",
       "<table border=\"1\" class=\"dataframe\">\n",
       "  <thead>\n",
       "    <tr style=\"text-align: right;\">\n",
       "      <th></th>\n",
       "      <th>Statistics</th>\n",
       "      <th>Prices</th>\n",
       "    </tr>\n",
       "  </thead>\n",
       "  <tbody>\n",
       "    <tr>\n",
       "      <th>0</th>\n",
       "      <td>Mean</td>\n",
       "      <td>7.699694</td>\n",
       "    </tr>\n",
       "    <tr>\n",
       "      <th>1</th>\n",
       "      <td>Min</td>\n",
       "      <td>1.000000</td>\n",
       "    </tr>\n",
       "    <tr>\n",
       "      <th>2</th>\n",
       "      <td>Max</td>\n",
       "      <td>25.000000</td>\n",
       "    </tr>\n",
       "  </tbody>\n",
       "</table>\n",
       "</div>"
      ],
      "text/plain": [
       "  Statistics     Prices\n",
       "0       Mean   7.699694\n",
       "1        Min   1.000000\n",
       "2        Max  25.000000"
      ]
     },
     "execution_count": 51,
     "metadata": {},
     "output_type": "execute_result"
    }
   ],
   "source": [
    "summary_table_reg"
   ]
  },
  {
   "cell_type": "markdown",
   "id": "6cdf3ca0",
   "metadata": {},
   "source": [
    "#### Median of 'days since order' for regular_shopper\n"
   ]
  },
  {
   "cell_type": "code",
   "execution_count": 52,
   "id": "df5f8011",
   "metadata": {},
   "outputs": [
    {
     "data": {
      "text/plain": [
       "7.0"
      ]
     },
     "execution_count": 52,
     "metadata": {},
     "output_type": "execute_result"
    }
   ],
   "source": [
    "reg_median"
   ]
  },
  {
   "cell_type": "code",
   "execution_count": 53,
   "id": "f9616f0f",
   "metadata": {},
   "outputs": [],
   "source": [
    "#filter DF to 'luxury_lover'\n",
    "luxury_df = df2[df2['Customer_Profile'] == 'luxury_lover']"
   ]
  },
  {
   "cell_type": "code",
   "execution_count": 54,
   "id": "11455bf1",
   "metadata": {},
   "outputs": [],
   "source": [
    "luxury_mean=luxury_df['prices'].mean()"
   ]
  },
  {
   "cell_type": "code",
   "execution_count": 55,
   "id": "ba0a93b4",
   "metadata": {},
   "outputs": [],
   "source": [
    "luxury_min=luxury_df['prices'].min()"
   ]
  },
  {
   "cell_type": "code",
   "execution_count": 56,
   "id": "bcba9dff",
   "metadata": {},
   "outputs": [],
   "source": [
    "luxury_max=luxury_df['prices'].max()"
   ]
  },
  {
   "cell_type": "code",
   "execution_count": 57,
   "id": "a5126a43",
   "metadata": {},
   "outputs": [],
   "source": [
    "summary_table_lux = pd.DataFrame({\n",
    "    'Statistics': ['Mean', 'Min', 'Max'],\n",
    "    'Prices': [luxury_mean, luxury_min, luxury_max]})"
   ]
  },
  {
   "cell_type": "markdown",
   "id": "01db7e6a",
   "metadata": {},
   "source": [
    "#### Summary table of luxury shopper\n"
   ]
  },
  {
   "cell_type": "code",
   "execution_count": 58,
   "id": "075a0a9b",
   "metadata": {},
   "outputs": [
    {
     "data": {
      "text/html": [
       "<div>\n",
       "<style scoped>\n",
       "    .dataframe tbody tr th:only-of-type {\n",
       "        vertical-align: middle;\n",
       "    }\n",
       "\n",
       "    .dataframe tbody tr th {\n",
       "        vertical-align: top;\n",
       "    }\n",
       "\n",
       "    .dataframe thead th {\n",
       "        text-align: right;\n",
       "    }\n",
       "</style>\n",
       "<table border=\"1\" class=\"dataframe\">\n",
       "  <thead>\n",
       "    <tr style=\"text-align: right;\">\n",
       "      <th></th>\n",
       "      <th>Statistics</th>\n",
       "      <th>Prices</th>\n",
       "    </tr>\n",
       "  </thead>\n",
       "  <tbody>\n",
       "    <tr>\n",
       "      <th>0</th>\n",
       "      <td>Mean</td>\n",
       "      <td>7.954245</td>\n",
       "    </tr>\n",
       "    <tr>\n",
       "      <th>1</th>\n",
       "      <td>Min</td>\n",
       "      <td>1.000000</td>\n",
       "    </tr>\n",
       "    <tr>\n",
       "      <th>2</th>\n",
       "      <td>Max</td>\n",
       "      <td>25.000000</td>\n",
       "    </tr>\n",
       "  </tbody>\n",
       "</table>\n",
       "</div>"
      ],
      "text/plain": [
       "  Statistics     Prices\n",
       "0       Mean   7.954245\n",
       "1        Min   1.000000\n",
       "2        Max  25.000000"
      ]
     },
     "execution_count": 58,
     "metadata": {},
     "output_type": "execute_result"
    }
   ],
   "source": [
    "summary_table_lux"
   ]
  },
  {
   "cell_type": "code",
   "execution_count": 59,
   "id": "c65c71ae",
   "metadata": {},
   "outputs": [],
   "source": [
    "lux_median=luxury_df['days_since_prior_order'].median()"
   ]
  },
  {
   "cell_type": "markdown",
   "id": "3befef58",
   "metadata": {},
   "source": [
    "#### Median of 'days since order' for luxury shoppers"
   ]
  },
  {
   "cell_type": "code",
   "execution_count": 60,
   "id": "55bac5f5",
   "metadata": {},
   "outputs": [
    {
     "data": {
      "text/plain": [
       "7.0"
      ]
     },
     "execution_count": 60,
     "metadata": {},
     "output_type": "execute_result"
    }
   ],
   "source": [
    "lux_median"
   ]
  },
  {
   "cell_type": "code",
   "execution_count": 61,
   "id": "ee3daac2",
   "metadata": {},
   "outputs": [],
   "source": [
    "#filter DF to 'bargain_finder'\n",
    "bargain_df = df2[df2['Customer_Profile'] == 'bargain_finder']"
   ]
  },
  {
   "cell_type": "code",
   "execution_count": 62,
   "id": "14cec163",
   "metadata": {},
   "outputs": [],
   "source": [
    "bargain_mean=bargain_df['prices'].mean()"
   ]
  },
  {
   "cell_type": "code",
   "execution_count": 63,
   "id": "f3b3e910",
   "metadata": {},
   "outputs": [
    {
     "data": {
      "text/plain": [
       "7.797824016886956"
      ]
     },
     "execution_count": 63,
     "metadata": {},
     "output_type": "execute_result"
    }
   ],
   "source": [
    "bargain_mean"
   ]
  },
  {
   "cell_type": "code",
   "execution_count": 64,
   "id": "2d49a7e0",
   "metadata": {},
   "outputs": [],
   "source": [
    "bargain_min=bargain_df['prices'].min()"
   ]
  },
  {
   "cell_type": "code",
   "execution_count": 65,
   "id": "fdd761f7",
   "metadata": {},
   "outputs": [],
   "source": [
    "bargain_max=bargain_df['prices'].max()"
   ]
  },
  {
   "cell_type": "code",
   "execution_count": 66,
   "id": "8e2fbd56",
   "metadata": {},
   "outputs": [],
   "source": [
    "bargain_median=bargain_df['days_since_prior_order'].median()"
   ]
  },
  {
   "cell_type": "code",
   "execution_count": 67,
   "id": "6b3a241c",
   "metadata": {},
   "outputs": [],
   "source": [
    "summary_table_bargain = pd.DataFrame({\n",
    "    'Statistics': ['Mean', 'Min', 'Max'],\n",
    "    'Prices': [bargain_mean, bargain_min, bargain_max]})"
   ]
  },
  {
   "cell_type": "markdown",
   "id": "0702d26d",
   "metadata": {},
   "source": [
    "#### Summary table of bargain shopper\n"
   ]
  },
  {
   "cell_type": "code",
   "execution_count": 68,
   "id": "739dc18d",
   "metadata": {},
   "outputs": [
    {
     "data": {
      "text/html": [
       "<div>\n",
       "<style scoped>\n",
       "    .dataframe tbody tr th:only-of-type {\n",
       "        vertical-align: middle;\n",
       "    }\n",
       "\n",
       "    .dataframe tbody tr th {\n",
       "        vertical-align: top;\n",
       "    }\n",
       "\n",
       "    .dataframe thead th {\n",
       "        text-align: right;\n",
       "    }\n",
       "</style>\n",
       "<table border=\"1\" class=\"dataframe\">\n",
       "  <thead>\n",
       "    <tr style=\"text-align: right;\">\n",
       "      <th></th>\n",
       "      <th>Statistics</th>\n",
       "      <th>Prices</th>\n",
       "    </tr>\n",
       "  </thead>\n",
       "  <tbody>\n",
       "    <tr>\n",
       "      <th>0</th>\n",
       "      <td>Mean</td>\n",
       "      <td>7.797824</td>\n",
       "    </tr>\n",
       "    <tr>\n",
       "      <th>1</th>\n",
       "      <td>Min</td>\n",
       "      <td>1.000000</td>\n",
       "    </tr>\n",
       "    <tr>\n",
       "      <th>2</th>\n",
       "      <td>Max</td>\n",
       "      <td>25.000000</td>\n",
       "    </tr>\n",
       "  </tbody>\n",
       "</table>\n",
       "</div>"
      ],
      "text/plain": [
       "  Statistics     Prices\n",
       "0       Mean   7.797824\n",
       "1        Min   1.000000\n",
       "2        Max  25.000000"
      ]
     },
     "execution_count": 68,
     "metadata": {},
     "output_type": "execute_result"
    }
   ],
   "source": [
    "summary_table_bargain"
   ]
  },
  {
   "cell_type": "markdown",
   "id": "dc994a91",
   "metadata": {},
   "source": [
    "#### Median of 'days since order' for bargain shoppers"
   ]
  },
  {
   "cell_type": "code",
   "execution_count": 69,
   "id": "9ca505e1",
   "metadata": {},
   "outputs": [
    {
     "data": {
      "text/plain": [
       "7.0"
      ]
     },
     "execution_count": 69,
     "metadata": {},
     "output_type": "execute_result"
    }
   ],
   "source": [
    "bargain_median"
   ]
  },
  {
   "cell_type": "markdown",
   "id": "5e858cf1",
   "metadata": {},
   "source": [
    "# Regular shopper insights:\n",
    "#### Expenditure: the mean expenditure is 7.69, the min is 1.0 and the max is 25.00. \n",
    "#### Usage frequency: regular shoppers see a median of 7 days since prior order. \n",
    "\n",
    "# Luxury shopper insights:\n",
    "#### Expenditure: the mean expenditure is 7.95, the min is 1.0 and the max is 25.00. \n",
    "#### Usage frequency: luxury shoppers see a median of 7 days since prior order. \n",
    "\n",
    "# Bargain shopper insights:\n",
    "#### Expenditure: the mean expenditure is 7.79, the min is 1.0 and the max is 25.00. \n",
    "#### Usage frequency: bargain shoppers see a median of 7 days since prior order. "
   ]
  },
  {
   "cell_type": "markdown",
   "id": "dcda278a",
   "metadata": {},
   "source": [
    "# Visualisations to compare customer profiles with regions and departments."
   ]
  },
  {
   "cell_type": "code",
   "execution_count": 69,
   "id": "7cbd25de",
   "metadata": {},
   "outputs": [],
   "source": [
    "groupedbar = df2.groupby(['region', 'Customer_Profile']).size().unstack(fill_value=0)"
   ]
  },
  {
   "cell_type": "code",
   "execution_count": 70,
   "id": "eb02eed2",
   "metadata": {},
   "outputs": [
    {
     "data": {
      "image/png": "[encoded data removed]",
      "text/plain": [
       "<Figure size 640x480 with 1 Axes>"
      ]
     },
     "metadata": {},
     "output_type": "display_data"
    }
   ],
   "source": [
    "bar1=groupedbar.plot(kind='bar', stacked=True)"
   ]
  },
  {
   "cell_type": "markdown",
   "id": "a99f458d",
   "metadata": {},
   "source": [
    "# Region 3 has the highest number of customers, which highlights more demand in this region in general. "
   ]
  },
  {
   "cell_type": "code",
   "execution_count": 71,
   "id": "23d849f6",
   "metadata": {},
   "outputs": [],
   "source": [
    "#export bar chart showing region\n",
    "bar1.figure.savefig(os.path.join(path, '04 Analysis', 'Visualisations', 'custprofile_region.png'), bbox_inches='tight')\n"
   ]
  },
  {
   "cell_type": "code",
   "execution_count": 72,
   "id": "b5f2c610",
   "metadata": {},
   "outputs": [],
   "source": [
    "#bar chart of cust profile and department\n",
    "groupedbar4 = df2.groupby(['department', 'Customer_Profile']).size().unstack(fill_value=0)"
   ]
  },
  {
   "cell_type": "code",
   "execution_count": 73,
   "id": "231e7d56",
   "metadata": {},
   "outputs": [],
   "source": [
    "#sort by lux lover\n",
    "sorted_groupedbar4 = groupedbar4.sort_values(by='luxury_lover', ascending=True)"
   ]
  },
  {
   "cell_type": "code",
   "execution_count": 74,
   "id": "789bc9a8",
   "metadata": {},
   "outputs": [
    {
     "data": {
      "image/png": "[encoded data removed]",
      "text/plain": [
       "<Figure size 640x480 with 1 Axes>"
      ]
     },
     "metadata": {},
     "output_type": "display_data"
    }
   ],
   "source": [
    "bar5test = sorted_groupedbar4.plot(kind='barh', stacked=True, title='Customer Profile by Department')\n"
   ]
  },
  {
   "cell_type": "markdown",
   "id": "b4bea316",
   "metadata": {},
   "source": [
    "# The top 3 departments for 'luxury lovers' are produce, dairy eggs and beverages. "
   ]
  },
  {
   "cell_type": "code",
   "execution_count": 75,
   "id": "70a481e1",
   "metadata": {},
   "outputs": [],
   "source": [
    "#export bar chart sorted by lux shopper\n",
    "bar5test.figure.savefig(os.path.join(path, '04 Analysis', 'Visualisations', 'custprofile_departmentid_sortbylux.png'), bbox_inches='tight')"
   ]
  },
  {
   "cell_type": "code",
   "execution_count": 76,
   "id": "ef81700d",
   "metadata": {},
   "outputs": [],
   "source": [
    "#sort by reg\n",
    "sorted_groupedbar5 = groupedbar4.sort_values(by='regular_shopper', ascending=True)"
   ]
  },
  {
   "cell_type": "code",
   "execution_count": 77,
   "id": "484754fc",
   "metadata": {},
   "outputs": [
    {
     "data": {
      "image/png": "[encoded data removed]",
      "text/plain": [
       "<Figure size 640x480 with 1 Axes>"
      ]
     },
     "metadata": {},
     "output_type": "display_data"
    }
   ],
   "source": [
    "bar6=sorted_groupedbar5.plot(kind='barh', stacked=True, title='Customer Profile by Department')"
   ]
  },
  {
   "cell_type": "markdown",
   "id": "d3538988",
   "metadata": {},
   "source": [
    "# The top 3 departments for 'regular_shoppers' are produce, dairy eggs and snacks. This is similar for 'bargin_finders'."
   ]
  },
  {
   "cell_type": "code",
   "execution_count": 78,
   "id": "210db615",
   "metadata": {},
   "outputs": [],
   "source": [
    "#export bar chart sorted by reg shopper\n",
    "bar6.figure.savefig(os.path.join(path, '04 Analysis', 'Visualisations', 'custprofile_departmentid_sortbyreg.png'), bbox_inches='tight')"
   ]
  },
  {
   "cell_type": "code",
   "execution_count": 79,
   "id": "b03b1e88",
   "metadata": {},
   "outputs": [],
   "source": [
    "dept_map = dict(zip(df2['department_id'], df2['department']))"
   ]
  },
  {
   "cell_type": "code",
   "execution_count": 80,
   "id": "0c6fda0a",
   "metadata": {},
   "outputs": [
    {
     "data": {
      "text/plain": [
       "{7: 'beverages',\n",
       " 16: 'dairy eggs',\n",
       " 19: 'snacks',\n",
       " 17: 'household',\n",
       " 4: 'produce',\n",
       " 14: 'breakfast',\n",
       " 13: 'pantry',\n",
       " 20: 'deli',\n",
       " 1: 'frozen',\n",
       " 11: 'personal care',\n",
       " 12: 'meat seafood',\n",
       " 6: 'international',\n",
       " 3: 'bakery',\n",
       " 15: 'canned goods',\n",
       " 9: 'dry goods pasta',\n",
       " 5: 'alcohol',\n",
       " 8: 'pets',\n",
       " 2: 'other',\n",
       " 21: 'missing',\n",
       " 18: 'babies',\n",
       " 10: 'bulk'}"
      ]
     },
     "execution_count": 80,
     "metadata": {},
     "output_type": "execute_result"
    }
   ],
   "source": [
    "dept_map"
   ]
  },
  {
   "cell_type": "markdown",
   "id": "134967b1",
   "metadata": {},
   "source": [
    "# Most popular day to shop for each customer profile"
   ]
  },
  {
   "cell_type": "code",
   "execution_count": 81,
   "id": "af39172d",
   "metadata": {},
   "outputs": [
    {
     "data": {
      "text/plain": [
       "Text(0.5, 1.0, 'Most Popular Days by Customer Profile')"
      ]
     },
     "execution_count": 81,
     "metadata": {},
     "output_type": "execute_result"
    },
    {
     "data": {
      "image/png": "[encoded data removed]",
      "text/plain": [
       "<Figure size 640x480 with 1 Axes>"
      ]
     },
     "metadata": {},
     "output_type": "display_data"
    }
   ],
   "source": [
    "barchart10=sns.countplot(data=df2, x='order_dow', hue='Customer_Profile')\n",
    "plt.title('Most Popular Days by Customer Profile')"
   ]
  },
  {
   "cell_type": "markdown",
   "id": "202d0593",
   "metadata": {},
   "source": [
    "# Friday, Saturday, Sunday are the most popular days for all customer profiles"
   ]
  },
  {
   "cell_type": "code",
   "execution_count": 82,
   "id": "64e1faee",
   "metadata": {},
   "outputs": [],
   "source": [
    "barchart10.figure.savefig(os.path.join(path, '04 Analysis', 'Visualisations', 'custprofile_dow.png'), bbox_inches='tight')"
   ]
  },
  {
   "cell_type": "markdown",
   "id": "d8162b7e",
   "metadata": {},
   "source": [
    "# How often users return to Instacart categorised by loyalty "
   ]
  },
  {
   "cell_type": "code",
   "execution_count": 83,
   "id": "1cfa5611",
   "metadata": {},
   "outputs": [],
   "source": [
    "median_days_by_loyalty = df2.groupby('loyalty_flag')['days_since_prior_order'].median().reset_index()"
   ]
  },
  {
   "cell_type": "code",
   "execution_count": 84,
   "id": "f8cf9808",
   "metadata": {},
   "outputs": [
    {
     "data": {
      "text/html": [
       "<div>\n",
       "<style scoped>\n",
       "    .dataframe tbody tr th:only-of-type {\n",
       "        vertical-align: middle;\n",
       "    }\n",
       "\n",
       "    .dataframe tbody tr th {\n",
       "        vertical-align: top;\n",
       "    }\n",
       "\n",
       "    .dataframe thead th {\n",
       "        text-align: right;\n",
       "    }\n",
       "</style>\n",
       "<table border=\"1\" class=\"dataframe\">\n",
       "  <thead>\n",
       "    <tr style=\"text-align: right;\">\n",
       "      <th></th>\n",
       "      <th>loyalty_flag</th>\n",
       "      <th>days_since_prior_order</th>\n",
       "    </tr>\n",
       "  </thead>\n",
       "  <tbody>\n",
       "    <tr>\n",
       "      <th>0</th>\n",
       "      <td>Loyal customer</td>\n",
       "      <td>5.0</td>\n",
       "    </tr>\n",
       "    <tr>\n",
       "      <th>1</th>\n",
       "      <td>New customer</td>\n",
       "      <td>16.0</td>\n",
       "    </tr>\n",
       "    <tr>\n",
       "      <th>2</th>\n",
       "      <td>Regular customer</td>\n",
       "      <td>9.0</td>\n",
       "    </tr>\n",
       "  </tbody>\n",
       "</table>\n",
       "</div>"
      ],
      "text/plain": [
       "       loyalty_flag  days_since_prior_order\n",
       "0    Loyal customer                     5.0\n",
       "1      New customer                    16.0\n",
       "2  Regular customer                     9.0"
      ]
     },
     "execution_count": 84,
     "metadata": {},
     "output_type": "execute_result"
    }
   ],
   "source": [
    "median_days_by_loyalty"
   ]
  },
  {
   "cell_type": "code",
   "execution_count": 85,
   "id": "3ba0e590",
   "metadata": {},
   "outputs": [
    {
     "data": {
      "text/plain": [
       "Text(0.5, 1.0, 'Median Days Since Prior Order by Customer Loyalty Type')"
      ]
     },
     "execution_count": 85,
     "metadata": {},
     "output_type": "execute_result"
    },
    {
     "data": {
      "image/png": "[encoded data removed]",
      "text/plain": [
       "<Figure size 640x480 with 1 Axes>"
      ]
     },
     "metadata": {},
     "output_type": "display_data"
    }
   ],
   "source": [
    "#plot bar\n",
    "loyaltyflag_MDSPO= sns.barplot(x='loyalty_flag', y='days_since_prior_order', data=median_days_by_loyalty, palette='viridis')\n",
    "#set title\n",
    "loyaltyflag_MDSPO.set_title('Median Days Since Prior Order by Customer Loyalty Type')"
   ]
  },
  {
   "cell_type": "markdown",
   "id": "6539f5f5",
   "metadata": {},
   "source": [
    "# Loyal customers return to Instacart the most often. \n",
    "\n",
    "### Median days since prior order:\n",
    "### Loyal customers : 5 days after prior order\n",
    "### Regular customers : 9 days after prior order\n",
    "### New customers : 16 days after prior order"
   ]
  },
  {
   "cell_type": "code",
   "execution_count": null,
   "id": "fa00c3dc",
   "metadata": {},
   "outputs": [],
   "source": [
    "#export visualisation\n",
    "loyaltyflag_MDSPO.figure.savefig(os.path.join(path, '04 Analysis','Visualisations', 'mediandayssinceorder_loyalty.png'))"
   ]
  },
  {
   "cell_type": "code",
   "execution_count": 87,
   "id": "cfca66cd",
   "metadata": {},
   "outputs": [
    {
     "data": {
      "text/plain": [
       "(30964564, 34)"
      ]
     },
     "execution_count": 87,
     "metadata": {},
     "output_type": "execute_result"
    }
   ],
   "source": [
    "df2.shape"
   ]
  },
  {
   "cell_type": "code",
   "execution_count": null,
   "id": "ad255040",
   "metadata": {},
   "outputs": [],
   "source": []
  }
 ],
 "metadata": {
  "kernelspec": {
   "display_name": "Python 3 (ipykernel)",
   "language": "python",
   "name": "python3"
  },
  "language_info": {
   "codemirror_mode": {
    "name": "ipython",
    "version": 3
   },
   "file_extension": ".py",
   "mimetype": "text/x-python",
   "name": "python",
   "nbconvert_exporter": "python",
   "pygments_lexer": "ipython3",
   "version": "3.11.7"
  }
 },
 "nbformat": 4,
 "nbformat_minor": 5
}

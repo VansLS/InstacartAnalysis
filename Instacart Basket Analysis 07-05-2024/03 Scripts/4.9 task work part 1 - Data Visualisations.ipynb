{
 "cells": [
  {
   "cell_type": "markdown",
   "id": "244a26c3",
   "metadata": {},
   "source": [
    "# Contents\n",
    "\n",
    "> importing library and data\n",
    "\n",
    "> explore customers data\n",
    "\n",
    "> run describe\n",
    "\n",
    "> Rename and drop columns\n",
    "\n",
    "> create a full name column and remove 'first name' and 'surname' columns\n",
    "\n",
    "> check for missing values and mixed data\n",
    "\n",
    "> merge customers data onto merged orders and products data\n",
    "\n",
    "> use df.merge() - best for dataframes that don't match in shape\n",
    "\n",
    "> test merge\n",
    "\n",
    "> export"
   ]
  },
  {
   "cell_type": "markdown",
   "id": "d722fc59",
   "metadata": {},
   "source": [
    "## Importing libraries"
   ]
  },
  {
   "cell_type": "code",
   "execution_count": null,
   "id": "9a1b1506",
   "metadata": {},
   "outputs": [],
   "source": [
    "import pandas as pd\n",
    "import numpy as np\n",
    "import os\n",
    "import matplotlib.pyplot as plt\n",
    "import seaborn as sns\n",
    "import scipy"
   ]
  },
  {
   "cell_type": "markdown",
   "id": "a6bf2c44",
   "metadata": {},
   "source": [
    "## Importing data"
   ]
  },
  {
   "cell_type": "code",
   "execution_count": null,
   "id": "8b22e008",
   "metadata": {},
   "outputs": [],
   "source": [
    "path=r'/Users/vanessalimsingh/Instacart Basket Analysis 07-05-2024'"
   ]
  },
  {
   "cell_type": "code",
   "execution_count": null,
   "id": "b7a030b3",
   "metadata": {},
   "outputs": [],
   "source": [
    "dfcustomers=pd.read_csv(os.path.join(path, '02 Data' , 'Original Data', 'customers.csv'), index_col=False)"
   ]
  },
  {
   "cell_type": "markdown",
   "id": "3a280d93",
   "metadata": {},
   "source": [
    "## Exploring data\n",
    "> shape, head, outliers on numeric values"
   ]
  },
  {
   "cell_type": "code",
   "execution_count": null,
   "id": "1ff5dd68",
   "metadata": {},
   "outputs": [],
   "source": [
    "dfcustomers.shape"
   ]
  },
  {
   "cell_type": "code",
   "execution_count": null,
   "id": "91900289",
   "metadata": {},
   "outputs": [],
   "source": [
    "dfcustomers.tail(100\n",
    "                )"
   ]
  },
  {
   "cell_type": "code",
   "execution_count": null,
   "id": "6ef2b2be",
   "metadata": {},
   "outputs": [],
   "source": [
    "dfcustomers['income'].describe()"
   ]
  },
  {
   "cell_type": "code",
   "execution_count": null,
   "id": "1b3074f3",
   "metadata": {},
   "outputs": [],
   "source": [
    "dfcustomers['fam_status'].unique()"
   ]
  },
  {
   "cell_type": "code",
   "execution_count": null,
   "id": "34c41957",
   "metadata": {},
   "outputs": [],
   "source": [
    "dfcustomers['Age'].describe()"
   ]
  },
  {
   "cell_type": "code",
   "execution_count": null,
   "id": "ee466ef1",
   "metadata": {},
   "outputs": [],
   "source": [
    "dfcustomers['n_dependants'].describe()"
   ]
  },
  {
   "cell_type": "code",
   "execution_count": null,
   "id": "08b30158",
   "metadata": {},
   "outputs": [],
   "source": [
    "dfcustomers['Gender'].unique()"
   ]
  },
  {
   "cell_type": "markdown",
   "id": "be6ce8ad",
   "metadata": {},
   "source": [
    "## Renaming and dropping columns"
   ]
  },
  {
   "cell_type": "code",
   "execution_count": null,
   "id": "1c09c89c",
   "metadata": {},
   "outputs": [],
   "source": [
    "dfcustomers.rename(columns={'Surnam':'Surname'},inplace=True)"
   ]
  },
  {
   "cell_type": "code",
   "execution_count": null,
   "id": "c0fe4caf",
   "metadata": {},
   "outputs": [],
   "source": [
    "dfcustomers.rename(columns={'n_dependants':'Dependants'},inplace=True)"
   ]
  },
  {
   "cell_type": "code",
   "execution_count": null,
   "id": "761f83b9",
   "metadata": {},
   "outputs": [],
   "source": [
    "dfcustomers.rename(columns={'fam_status':'Status'},inplace=True)"
   ]
  },
  {
   "cell_type": "code",
   "execution_count": null,
   "id": "df942e6f",
   "metadata": {},
   "outputs": [],
   "source": [
    "dfcustomers.rename(columns={'STATE':'State'},inplace=True)"
   ]
  },
  {
   "cell_type": "code",
   "execution_count": null,
   "id": "070cb172",
   "metadata": {},
   "outputs": [],
   "source": [
    "dfcustomers.head()"
   ]
  },
  {
   "cell_type": "code",
   "execution_count": null,
   "id": "879d8e1f",
   "metadata": {},
   "outputs": [],
   "source": [
    "#merge first name and surname\n",
    "dfcustomers['Full Name'] = dfcustomers['First Name'] + ' ' + dfcustomers['Surname']"
   ]
  },
  {
   "cell_type": "code",
   "execution_count": null,
   "id": "b9574438",
   "metadata": {},
   "outputs": [],
   "source": [
    "dfcustomers.head()"
   ]
  },
  {
   "cell_type": "code",
   "execution_count": null,
   "id": "83106af1",
   "metadata": {},
   "outputs": [],
   "source": [
    "#remove first name and surname columns without overwriting. \n",
    "df_new = dfcustomers.drop(columns=['First Name', 'Surname'])"
   ]
  },
  {
   "cell_type": "markdown",
   "id": "b8fd863e",
   "metadata": {},
   "source": [
    "## Checking for missing values and mixed data"
   ]
  },
  {
   "cell_type": "code",
   "execution_count": null,
   "id": "a45951ce",
   "metadata": {},
   "outputs": [],
   "source": [
    "df_new.isna().sum()"
   ]
  },
  {
   "cell_type": "code",
   "execution_count": null,
   "id": "99bd2f22",
   "metadata": {},
   "outputs": [],
   "source": [
    "df_new.dtypes"
   ]
  },
  {
   "cell_type": "code",
   "execution_count": null,
   "id": "e304a402",
   "metadata": {},
   "outputs": [],
   "source": [
    "#to leave data type as is. "
   ]
  },
  {
   "cell_type": "markdown",
   "id": "b3e9b63a",
   "metadata": {},
   "source": [
    "## Combine customers data with prepared instacart data"
   ]
  },
  {
   "cell_type": "code",
   "execution_count": null,
   "id": "1cb58258",
   "metadata": {},
   "outputs": [],
   "source": [
    "# 1. Import data\n",
    "df_merged= pd.read_pickle(os.path.join(path, '02 Data', 'Prepared Data', 'ords_prods_merge_4-8.pkl'))"
   ]
  },
  {
   "cell_type": "code",
   "execution_count": null,
   "id": "57cb9542",
   "metadata": {},
   "outputs": [],
   "source": [
    "df_merged.head()"
   ]
  },
  {
   "cell_type": "code",
   "execution_count": null,
   "id": "50553a2b",
   "metadata": {},
   "outputs": [],
   "source": [
    "df_merged['user_id'].describe()"
   ]
  },
  {
   "cell_type": "code",
   "execution_count": null,
   "id": "4ecb72b5",
   "metadata": {},
   "outputs": [],
   "source": [
    "pd.options.display.float_format = '{:.2f}'.format"
   ]
  },
  {
   "cell_type": "code",
   "execution_count": null,
   "id": "62c23e8d",
   "metadata": {},
   "outputs": [],
   "source": [
    "#Finding the common column\n",
    "df_merged.columns.intersection(df_new.columns)"
   ]
  },
  {
   "cell_type": "code",
   "execution_count": null,
   "id": "aa30e3d1",
   "metadata": {},
   "outputs": [],
   "source": [
    "#we will use user_id to merge the data"
   ]
  },
  {
   "cell_type": "markdown",
   "id": "a4368b17",
   "metadata": {},
   "source": [
    "## df.merge() works best for dataframes that don't match in shape"
   ]
  },
  {
   "cell_type": "code",
   "execution_count": null,
   "id": "fc6a2105",
   "metadata": {},
   "outputs": [],
   "source": [
    "#test merge without overwriting"
   ]
  },
  {
   "cell_type": "code",
   "execution_count": null,
   "id": "070a9136",
   "metadata": {},
   "outputs": [],
   "source": [
    "df_test=pd.merge(df_merged, df_new, on='user_id', indicator='test_merge_indicator')"
   ]
  },
  {
   "cell_type": "code",
   "execution_count": null,
   "id": "6525ab09",
   "metadata": {},
   "outputs": [],
   "source": [
    "df_test.head()"
   ]
  },
  {
   "cell_type": "code",
   "execution_count": null,
   "id": "ba45a613",
   "metadata": {},
   "outputs": [],
   "source": [
    "pd.options.display.max_rows = None"
   ]
  },
  {
   "cell_type": "code",
   "execution_count": null,
   "id": "feac57e8",
   "metadata": {},
   "outputs": [],
   "source": [
    "df_test.head()"
   ]
  },
  {
   "cell_type": "code",
   "execution_count": null,
   "id": "7ce3340a",
   "metadata": {},
   "outputs": [],
   "source": [
    "df_test['test_merge_indicator'].value_counts()\n"
   ]
  },
  {
   "cell_type": "code",
   "execution_count": null,
   "id": "ee65a5f3",
   "metadata": {},
   "outputs": [],
   "source": [
    "df_test.shape"
   ]
  },
  {
   "cell_type": "code",
   "execution_count": null,
   "id": "68632f65",
   "metadata": {},
   "outputs": [],
   "source": [
    "df_test = df_test.drop(columns=['merge_indicator'])"
   ]
  },
  {
   "cell_type": "code",
   "execution_count": null,
   "id": "a1fa9978",
   "metadata": {},
   "outputs": [],
   "source": [
    "df_test.rename(columns={'test_merge_indicator':'merge_indicator'},inplace=True)"
   ]
  },
  {
   "cell_type": "code",
   "execution_count": null,
   "id": "c31aa213",
   "metadata": {},
   "outputs": [],
   "source": [
    "df_test.dtypes"
   ]
  },
  {
   "cell_type": "code",
   "execution_count": null,
   "id": "d0c83ae1",
   "metadata": {},
   "outputs": [],
   "source": [
    "df_test.head()"
   ]
  },
  {
   "cell_type": "code",
   "execution_count": null,
   "id": "d00b07ff",
   "metadata": {},
   "outputs": [],
   "source": [
    "pd.options.display.max_columns = None"
   ]
  },
  {
   "cell_type": "code",
   "execution_count": null,
   "id": "4c114522",
   "metadata": {},
   "outputs": [],
   "source": [
    "df_test.tail()"
   ]
  },
  {
   "cell_type": "markdown",
   "id": "07a632f8",
   "metadata": {},
   "source": [
    "## Exporting data"
   ]
  },
  {
   "cell_type": "code",
   "execution_count": null,
   "id": "0e3c4da0",
   "metadata": {},
   "outputs": [],
   "source": [
    "# Export data to pkl\n",
    "\n",
    "df_test.to_pickle(os.path.join(path, '02 Data','Prepared Data', 'ords_prods_customers.pkl'))"
   ]
  },
  {
   "cell_type": "code",
   "execution_count": null,
   "id": "a1619c41",
   "metadata": {},
   "outputs": [],
   "source": []
  }
 ],
 "metadata": {
  "kernelspec": {
   "display_name": "Python 3 (ipykernel)",
   "language": "python",
   "name": "python3"
  },
  "language_info": {
   "codemirror_mode": {
    "name": "ipython",
    "version": 3
   },
   "file_extension": ".py",
   "mimetype": "text/x-python",
   "name": "python",
   "nbconvert_exporter": "python",
   "pygments_lexer": "ipython3",
   "version": "3.11.7"
  }
 },
 "nbformat": 4,
 "nbformat_minor": 5
}
